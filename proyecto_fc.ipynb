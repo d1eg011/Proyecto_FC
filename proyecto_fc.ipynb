{
 "cells": [
  {
   "cell_type": "markdown",
   "metadata": {
    "id": "sy52tMXlRZFk"
   },
   "source": [
    "# Modelo de Ising Clásico Bidimensional en una grilla *N x N* Espines: Monte Carlo\n",
    "\n",
    " ### Fiorela Acuña Chaves, Diego Solano Alfaro, Aaron Sanabria Martínez, Guillermo Escobar Arrieta"
   ]
  },
  {
   "cell_type": "markdown",
   "metadata": {
    "id": "v8_dmfsxRZFq"
   },
   "source": [
    "## El modelo de Ising\n",
    "\n",
    "Este modelo es una herramienta práctica y sencilla para llegar a una relación de la mecánica estadística y la teoría cuántica de campos; principalmente se usa en mecánica estadística para simular sistemas magnéticos con el fin de analizar sus propiedades de ferromagnetismo a partir del análisis de sistema de espines representados en una grilla y los intercambios de energía por interacciones entre espines (Molignini P.,2013).\n",
    "\n",
    "La grilla se ve representada por valores discretos de $\\sigma_{i}$ asignados en cada punto de esta y que identifican el espín en dicha posición. En este caso los valores posibles son de 1 y -1 (espín $\\uparrow$ y $\\downarrow$ respectivamente).\n",
    "\n",
    "El hamiltoniano asociado a estos sistemas es:\n",
    "\n",
    "$$\n",
    "\\hat{H} = - \\sum_{ \\left< i,j \\right>}^{N} J_{ij} \\hat{\\sigma}^{z}_{i} \\hat{\\sigma}^{z}_{j} - g \\sum_{i=1}^{N} \\hat{\\sigma}^{x}_{i},\n",
    "$$\n",
    "\n",
    "donde tenemos:\n",
    "- Las matrices de Pauli **$\\sigma_{i}^{z}$** y **$\\sigma_{i}^{x}$**.\n",
    "- La escala energética asociada a la interacción ferromagnética **$J_{ij}$**.\n",
    "- El parámetro energético del campo magnético transversal externo **g**.\n",
    "\n",
    "De este modo, el primer término define la interacción de pares de espines en la grilla y el segundo la interacción de todos los espines con el campo magnético externo.\n",
    "\n",
    "Por otra parte, el ferromagnetismo es la propiedad de los materiales a tener un ordenamiento magnético. Es decir, indica que los espines se matienen alineados en la misma dirección, ya sea todos los espines $\\uparrow$ o $\\downarrow$, posterior a la aplicación de un campo magnético externo. Existe una magnetización espontánea ante la ausencia de un campo magnético.\n",
    "\n",
    "Sin embargo, según Bennett (2016) esto sucede solo en materiales que se encuentran por debajo de la temperratura de crítica ($T_{c}$), dado que por encima de ella los espines pueden desordenarse y el material sería paramagnético.\n",
    "\n",
    "El parámetro de $J_{ij}$ ayuda a identificar la propiedad magnética del material:\n",
    "- Si es positivo, los espines tienden a estar alineados y el material sería ferromagnético.\n",
    "- Si es negativo, los espines tienden a repeleerse entre sí y el material sería antiferromagnético.\n",
    "\n",
    "En caso de no tener un campo magnético externo (g = 0), el Hamiltoniano se reduce solo a las interaciones entre espines:\n",
    "\n",
    "$$\n",
    "\\hat{H} = - \\sum_{ \\left< i,j \\right>}^{N} J_{ij} \\hat{\\sigma}^{z}_{i} \\hat{\\sigma}^{z}_{j}\n",
    "$$\n"
   ]
  },
  {
   "cell_type": "markdown",
   "metadata": {
    "id": "_kq4ifYERZFr"
   },
   "source": [
    "Para poder realizar una implementación númerica de este modelo, se toman las siguientes simplificaciones:\n",
    "- Se toma $J_{ij} \\Rightarrow J > 0$ para todas las interaciones de los espines\n",
    "- Se trabaja con una red cuadrada de NxN, la cual tiene una cantidad de configuraciones posibles son de *$2^{N^{2}}$*\n",
    "- Dominan las interacciones entre espines de los vecinos más cercanos\n",
    "- Se toma un valor de g =0, es decir no hay campo magnético externo.\n",
    "\n",
    "Por tanto, el hamiltoniano toma la siguiente forma:\n",
    "\n",
    "$$\n",
    "\\hat{H} = -J \\sum_{ i=1}^{N} \\hat{\\sigma}^{z}_{i} \\hat{\\sigma}^{z}_{i +1}\n",
    "$$"
   ]
  },
  {
   "cell_type": "markdown",
   "metadata": {
    "id": "spNLbK-0RZFs"
   },
   "source": [
    "## Algoritmo de Metrópolis\n",
    "\n",
    "El algoritmo que se va a utilizar en este proyecto es conocido como Metrópolis, y está basado en una simulación de Monte Carlo (como se verá más adelante). Otros procedimientos requerirían tomar números aleatorios, hacer las mediciones del método y luego calcular sus pesos respecto de factor de Boltzmann; lo cual implicaría un mayor costo computacional para obtener mediciones válidas. Por otro lado, Metrópolis toma estados con base en los factores de Boltzmann, de modo que estos tienen el mismo peso.\n",
    "\n",
    "Primeramente, se genera una configuración aleatoria de _spin_ con energía ̣$E_0$. Luego, se escoge un _spin_ aleatorio para someterlo a un _flip_ (cambio de orientación en el _spin_), para lo cual se utiliza el algoritmo de Metropolis. Este requiere tomar en cuenta el cambio de energía en la configuración total $\\Delta E = E' - E_0$ si el _flip_ se diera ($E'$ es la hipotética nueva energía), la distribución de probabilidad de Boltzmann $e^{-\\Delta E / (k_b T)}$ y un número aleatorio $r$ tal que $0 \\leq r \\leq 1$ (Bennett, 2016).\n",
    "\n",
    "* Si $\\Delta E \\leq 0$, se acepta el cambio porque es más favorable que el estado inicial (estado menos energético).\n",
    "* Si $\\Delta E > 0$, se compara $p$ con $r$. Se acepta el _flip_ solo si $r \\leq p$.\n",
    "\n",
    "Tras aplicar el algoritmo, se actualizan la energía de la configuración $E_0$ y las demás magnitudes mencionadas anteriormente. Se repite para puntos de la grilla aleatorios hasta que se alcanza el equilibrio térmico. La idea es realizar evaluaciones para distintas temperaturas.\n",
    "\n",
    "En la figura 1 se muestra un diagrama de flujo para el método anteriormente descrito.\n",
    "\n",
    "<img src='Diagrama.jpeg' >\n",
    "\n",
    "Figura 1. Diagrama de flujo del método de Metropolis. Tomado de (Montes de Oca-Mora et al., 2023)."
   ]
  },
  {
   "cell_type": "markdown",
   "metadata": {
    "id": "6Q8JW5GSRZFt"
   },
   "source": [
    "## Método de Montecarlo\n",
    "\n",
    "Como se vio anteriormente, se requieren número aleatorios para llevar a cabo el algoritmo de Metrópolis. En el código de este proyecto se emplearon el módulo `numpy` y su funcionalidad `random`.\n",
    "\n",
    "En Python, por lo general se crean números pseudo-aleatorios con base en un generador conocido como Mersenne-Twister, el cual ha sido ampliamente probado, pero hay situaciones en las que no es adecuado, como en la criptografía. Este produce floats con una precisión de 53 bits (de 15 a 17 posiciones decimales) y tiene un periodo de `2**19937-1`."
   ]
  },
  {
   "cell_type": "markdown",
   "metadata": {
    "id": "EoCC30QyRZFt"
   },
   "source": [
    "## Propiedades"
   ]
  },
  {
   "cell_type": "markdown",
   "metadata": {
    "id": "Y5ZKT2C3RZFt"
   },
   "source": [
    "El estudio de cambios de fase es de suma importancia al analizar comportamientos y tendencias en los materiales; estos se identifican como rápido cambio de las propiedades macroscópicas a partir de cierto parámetro. Para el modelo de Ising, permite identificar una cambio de fase de los materiales, el cual se da al llegar a la temperatura de Curie (una temperatura crítica). Es importante recalcar que en este caso la temperatura se está tomando en unidades de energía (Molignini P., 2013).\n",
    "\n",
    "Esta transición de fase se puede analizar a partir del promedio de energía, la capacidad calorífica y la  magnetización cuando estas se toman en fución de la temperatura.\n"
   ]
  },
  {
   "cell_type": "markdown",
   "metadata": {
    "id": "LBgJizY8RZFt"
   },
   "source": [
    "La energía promedio puede calcularse de la siguiente forma:\n",
    "\n",
    "$$\n",
    " \\left< E \\right> = \\frac{1}{2} \\left< \\sum_{i,j} H_{ij} \\right>\n",
    "$$\n",
    "\n",
    "El factor de $1/2$ toma en cuenta que en la suma se repiten cada par dos veces. Además para este caso se espera observar una continuidad (creciente) con un punto de inflexión en $T_{c}$, que luego decrezca a 0 de mode que se represente una desalineación de los spines (paramagnetividad del material).\n",
    "\n",
    "La magnetización bajo el modelo se calcula como\n",
    "\n",
    "$$\n",
    "\\left< M \\right> = \\frac{1}{N^{2}} \\sum_{i,j} \\sigma_{ij}\n",
    "$$\n",
    "\n",
    "Pero, teóricamente, la magnetización está dada por\n",
    "\n",
    "$$\n",
    "\\left< M \\right> = \\frac{\\eta g \\mu_{B}}{2} tanh(\\frac{g \\mu_{B} B}{2 k_{B}T}),\n",
    "$$\n",
    "\n",
    "con $\\eta$ el número de partículas, g la razón giromagnética, $\\mu_{B}$ el magnetón de Bohr, $k_{B}$ la cosntante de Boltzmann, B el campo magnético.\n",
    "\n",
    "Lo importante en este caso es que la relación de la magnetización con la temperatura debe seguir la forma de una tagente hiperbólica. Lo cual implica que en un inció debe tener un valor de 1 o -1 (estado de alineación ferromagnética), y posterior a $T_{c}$ debe ser 0 (dealineación paramagnética).\n",
    "\n",
    "Por último, la capacidad calorífica puede calcularse como\n",
    "\n",
    "$$\n",
    "C_{V} = \\frac{\\partial \\left< E \\right>}{\\partial T} = \\frac{1}{k_{B} T^{2}}(\\left< E^{2} \\right> - \\left< E \\right>^{2})\n",
    "$$\n",
    "\n",
    "En este caso, al ser una derivada de la energía se espera una discontinuidad cuando ocurre el cambio de fase en $T_{c}$."
   ]
  },
  {
   "cell_type": "markdown",
   "metadata": {
    "id": "pjrqnbeDRZFu"
   },
   "source": [
    "### Implementación del código en python\n",
    "\n",
    "Ahora, se implementa la función que cambia un spin aleatorio de la configuración, aplica el algoritmo de Metrópolis tantas veces como `steps` indique y retorna el rango de temperaturas especificado con `Ti`y `Tf` con el resto de propiedades.\n",
    "\n",
    "En cuanto a números pseudo-aleatorios, nótese que `np.random.choice([-1, 1], size=(size, size))` usa Mersenne-Twister por la forma en la que se llama a la funcionalidad. Por otro lado, `np.random.randint(N)` genera enteros aleatorios según Mersenne-Twister para ubicar un spin aleatorio de la configuración y someterlo al algoritmo de Metrópolis."
   ]
  },
  {
   "cell_type": "markdown",
   "metadata": {
    "id": "dXhkXndhX_9l"
   },
   "source": [
    "Por simplicidad, se escogieron las unidades de forma que $k_b = 1$. Además, se escogió $J=1$ y $M=0$ en el Hamiltoniano. Estos valores se asumen a lo largo del código. También se asumen condiciones periódicas de frontera."
   ]
  },
  {
   "cell_type": "markdown",
   "metadata": {
    "id": "w3gsI0EBtOyI"
   },
   "source": [
    "La única biblioteca externa que se utiliza es *numpy*."
   ]
  },
  {
   "cell_type": "code",
   "execution_count": null,
   "metadata": {
    "id": "XxxL5in0tNM4"
   },
   "outputs": [],
   "source": [
    "import numpy as np\n"
   ]
  },
  {
   "cell_type": "markdown",
   "metadata": {
    "id": "8VYHAIRIthIU"
   },
   "source": [
    "En el código se usa programación orientada para la representaciones de las grillas de espines. Esto permite crear código legible y mejorar la encapsulación. Se creó una clase llamada `Spins` que cuenta con métodos para inicializar la grilla, calcular la energía, calcular la magnetización y determinar si se acepta o no el cambio en el espín."
   ]
  },
  {
   "cell_type": "code",
   "execution_count": null,
   "metadata": {
    "id": "kpjNusu_t1v3"
   },
   "outputs": [],
   "source": [
    "\n",
    "class Spins:\n",
    "    def __init__(self, init_state, size):\n",
    "            if init_state == 0:\n",
    "                self.lattice = np.random.choice([-1, 1], size=(size, size))\n",
    "            elif init_state == -1:\n",
    "                self.lattice = np.full((size, size), -1)\n",
    "            else:\n",
    "                self.lattice = np.ones((size, size))\n",
    "            self.size = size\n",
    "\n",
    "    def calculate_energy(self):\n",
    "        neighbors_sum = (\n",
    "            np.roll(self.lattice, 1, axis=1)\n",
    "            + np.roll(self.lattice, -1, axis=1)\n",
    "            + np.roll(self.lattice, 1, axis=0)\n",
    "            + np.roll(self.lattice, -1, axis=0)\n",
    "        )\n",
    "        return -0.5 * (self.lattice * neighbors_sum).sum()\n",
    "\n",
    "    def calculate_magnetization(self):\n",
    "        return np.sum(self.lattice)\n",
    "\n",
    "    def update(self, i, j, T, rand):\n",
    "        dE = (\n",
    "        2\n",
    "        * self.lattice[i, j]\n",
    "        * (\n",
    "            self.lattice[(i + 1) % self.size, j]\n",
    "            + self.lattice[(i - 1) % self.size, j]\n",
    "            + self.lattice[i, (j + 1) % self.size]\n",
    "            + self.lattice[i, (j - 1) % self.size]\n",
    "        )\n",
    "        )\n",
    "        if rand < - dE / (T):\n",
    "            self.lattice[i, j] *= -1\n",
    "            dM = 2 * self.lattice[i, j]\n",
    "            return dE, dM\n",
    "\n",
    "        return 0, 0"
   ]
  },
  {
   "cell_type": "markdown",
   "metadata": {
    "id": "bXC6UmGtuHwM"
   },
   "source": [
    "El constructor recibe como argumentos el tamaño de la grilla y un número que indica su estado inicial. Un valor de 0 indica que la grilla comienza desordenada, un valor de 1 que los espines inician hacia abajo y cualquier otro valor que inician hacia arriba.\n",
    "\n",
    "Para inicializar los arreglos se utilizan los métodos `choice`, `full` y `ones` de numpy:\n",
    "- `choice`: se utiliza para generar el arreglo desornados. Se le pasan los posibles valores que puede escoger y las dimensiones del arreglo resultante:\n",
    "```python\n",
    "self.lattice = np.random.choice([-1, 1], size=(size, size))\n",
    "```\n",
    "- `full`: se utiliza para llenar el arreglo con `-1`s. Recibe el tamaño del arreglo y el valor con el que se llenará. En nuestro caso `-1`.\n",
    "```python\n",
    "self.lattice = np.full((size, size), -1)\n",
    "```\n",
    "- `ones`: se utiliza para llenar el arreglo de unos. Solo recibe el tamaño del arreglo como argumento,\n",
    "```python\n",
    "self.lattice = np.ones((size, size))\n",
    "```"
   ]
  },
  {
   "cell_type": "markdown",
   "metadata": {
    "id": "C6Fzvkltw02S"
   },
   "source": [
    "Para calcular la energía se utiliza la función `roll` de numpy. Esta función nos permite desplazar los elementos de un arreglo la cantidad especificada de pasos en el eje especificado. Como para calcular la energía total multiplicamos cada espín por la suma de los cuatro espines vecinos, lo que se hizo fue multiplicar cada elemento del arreglo con espines por el arreglo obtenido de sumar los espines de los vecinos. Esta suma se obtuvo desplazando el arreglo con espines a la izquierda, derecha, arriba y abajo y sumando los arreglos resultantes.\n",
    "\n",
    "```python\n",
    "def calculate_energy(self):\n",
    "    neighbors_sum = (\n",
    "        np.roll(self.lattice, 1, axis=1)\n",
    "        + np.roll(self.lattice, -1, axis=1)\n",
    "        + np.roll(self.lattice, 1, axis=0)\n",
    "        + np.roll(self.lattice, -1, axis=0)\n",
    "    )\n",
    "    return -0.5 * (self.lattice * neighbors_sum).sum()\n",
    "```"
   ]
  },
  {
   "cell_type": "markdown",
   "metadata": {
    "id": "mn7Cyx7pPUBZ"
   },
   "source": [
    "Para calcular la energía se utiliza la función `roll` de numpy. Esta función nos permite desplazar los elementos de un arreglo la cantidad especificada de pasos en el eje especificado. Como para calcular la energía total multiplicamos cada espín por la suma de los cuatro espines vecinos, lo que se hizo fue multiplicar cada elemento del arreglo con espines por el arreglo obtenido de sumar los espines de los vecinos. Esta suma se obtuvo desplazando el arreglo con espines a la izquierda, derecha, arriba y abajo y sumando los arreglos resultantes.\n",
    "\n",
    "```python\n",
    "def calculate_energy(self):\n",
    "    neighbors_sum = (\n",
    "        np.roll(self.lattice, 1, axis=1)\n",
    "        + np.roll(self.lattice, -1, axis=1)\n",
    "        + np.roll(self.lattice, 1, axis=0)\n",
    "        + np.roll(self.lattice, -1, axis=0)\n",
    "    )\n",
    "    return -0.5 * (self.lattice * neighbors_sum).sum()\n",
    "```"
   ]
  },
  {
   "cell_type": "markdown",
   "metadata": {
    "id": "Jw2ugPwtzpEW"
   },
   "source": [
    "El cálculo de la magnetización es muy directo simplemente se suman los espines. Para ello se utiliza el método `sum` de *numpy*."
   ]
  },
  {
   "cell_type": "markdown",
   "metadata": {
    "id": "yEsTlIC8z4QB"
   },
   "source": [
    "En el método `update` se calcula el cambio de energía utilizando que al cambiar un espín, energía solo cambia por la interacción con sus cuatro vecinos más cercanos. Entonces, se usa que\n",
    "$$S'_{i,j}(S_{i+1,j} + S_{i-1,j} + S_{i,j+1} + S_{i,j-1})-S_{i,j}(S_{i+1,j} + S_{i-1,j} + S_{i,j+1} + S_{i,j-1}) = -2S_{i,j}(S_{i+1,j} + S_{i-1,j} + S_{i,j+1} + S_{i,j-1})$$\n",
    "si $S'_{i,j} = -S_{i,j}$.\n",
    "\n",
    "Luego se le da vuelta al espín con la probabilidad calculada a partir de la temperatura y el cambio de energía. Para darle vuelta al espín se multiplica por $-1$. Y utilizando y razonamiento similar al anterior se usó que $\\delta M = 2 * S_{i,j}$\n",
    "```python\n",
    "def update(self, i, j, T, rand):\n",
    "    dE = (\n",
    "    2\n",
    "    * self.lattice[i, j]\n",
    "    * (\n",
    "        self.lattice[(i + 1) % self.size, j]\n",
    "        + self.lattice[(i - 1) % self.size, j]\n",
    "        + self.lattice[i, (j + 1) % self.size]\n",
    "        + self.lattice[i, (j - 1) % self.size]\n",
    "    )\n",
    "    )\n",
    "    if rand < - dE / (T):\n",
    "        self.lattice[i, j] *= -1\n",
    "        dM = 2 * self.lattice[i, j]\n",
    "        return dE, dM\n",
    "\n",
    "    return 0, 0\n",
    "```\n"
   ]
  },
  {
   "cell_type": "markdown",
   "metadata": {
    "id": "o9RfN4ODPgwE"
   },
   "source": [
    "En el método `update` se calcula el cambio de energía utilizando que al cambiar un espín, energía solo cambia por la interacción con sus cuatro vecinos más cercanos. Entonces, se usa que\n",
    "$$S'_{i,j}(S_{i+1,j} + S_{i-1,j} + S_{i,j+1} + S_{i,j-1})-S_{i,j}(S_{i+1,j} + S_{i-1,j} + S_{i,j+1} + S_{i,j-1}) = -2S_{i,j}(S_{i+1,j} + S_{i-1,j} + S_{i,j+1} + S_{i,j-1})$$\n",
    "si $S'_{i,j} = -S_{i,j}$.\n",
    "\n",
    "Luego se le da vuelta al espín con la probabilidad calculada a partir de la temperatura y el cambio de energía. Para darle vuelta al espín se multiplica por $-1$. Y utilizando y razonamiento similar al anterior se usó que $\\delta M = 2 * S_{i,j}$\n",
    "```python\n",
    "def update(self, i, j, T, rand):\n",
    "    dE = (\n",
    "    2\n",
    "    * self.lattice[i, j]\n",
    "    * (\n",
    "        self.lattice[(i + 1) % self.size, j]\n",
    "        + self.lattice[(i - 1) % self.size, j]\n",
    "        + self.lattice[i, (j + 1) % self.size]\n",
    "        + self.lattice[i, (j - 1) % self.size]\n",
    "    )\n",
    "    )\n",
    "    if rand < - dE / (T):\n",
    "        self.lattice[i, j] *= -1\n",
    "        dM = 2 * self.lattice[i, j]\n",
    "        return dE, dM\n",
    "\n",
    "    return 0, 0\n",
    "```\n"
   ]
  },
  {
   "cell_type": "markdown",
   "metadata": {
    "id": "X-bDRLAL2c5-"
   },
   "source": [
    "Luego, con el fin de disminuir el llamado entre funciones que estaba afectando seriamente el rendimiento del código se creo una única función calculan los valores de la energía y la magnetización. Para la cantidad de iteraciones especificadas para cada valor de la temperatura dentro del intervalo especificado.\n",
    "```python\n",
    "spins = Spins(init_state, size)\n",
    "E = spins.calculate_energy()\n",
    "M = spins.calculate_magnetization()\n",
    "```\n",
    "Dentro de la función se crea un objeto de la clase `Spins`. Luego se calcula su energía y magnetización total con los métodos explicados anteriormente. Se utiliza el método de *numpy* `linspace` para generar un intervalo de valores de temperatura. Luego se crean dos arreglos para almacenar los valores de la energía y de la magnetización. Para reducir el uso de memoria estos arreglos comienzan a almacenar valores hasta después del periodo de termalización.\n",
    "```python\n",
    "temperatures = np.linspace(Ti, Tf, steps)\n",
    "energies = np.zeros((steps, mcsteps))\n",
    "magnetizations = np.zeros((steps, mcsteps))\n",
    "```\n",
    "Luego, se genera arreglo con números aleatorios para evaluar la condición del cambio de espín y otro con las posiciones que se escogerán. En este caso el tamaño del arreglo sí toma en cuenta los pasos correspondientes al periodo de termalización.\n",
    "```python\n",
    "rand_pos = np.random.randint(size, size=((steps, mcsteps + thermsteps, 2)))\n",
    "rands = np.log(np.random.uniform(size=(steps, mcsteps + thermsteps)))\n",
    "```"
   ]
  },
  {
   "cell_type": "markdown",
   "metadata": {
    "id": "XkUVlyDh6LC7"
   },
   "source": [
    "Luego, se entra al bucle principal donde para cada temperatura, se realiza el proceso de actualización `mcsteps + thermsteps` veces para cada temperatura. A partir de los cambios de energía y magnetización calculados por el método `update` se actulizan los valores de la energía y magnetización. Además, se incluye un condicional para guardar estos valores hasta después de alcanzar la termalización."
   ]
  },
  {
   "cell_type": "code",
   "execution_count": null,
   "metadata": {
    "id": "7nO_xZtRPoUz"
   },
   "outputs": [],
   "source": [
    "def simulate_Ising(Ti, Tf, steps, size, mcsteps, thermsteps, init_state=1, J=1, kb=1):\n",
    "\n",
    "    spins = Spins(init_state, size)\n",
    "    E = spins.calculate_energy()\n",
    "    M = spins.calculate_magnetization()\n",
    "\n",
    "    temperatures = np.linspace(Ti, Tf, steps)\n",
    "    energies = np.zeros((steps, mcsteps))\n",
    "    magnetizations = np.zeros((steps, mcsteps))\n",
    "\n",
    "    rand_pos = np.random.randint(size, size=((steps, mcsteps + thermsteps, 2)))\n",
    "    rands = np.log(np.random.uniform(size=(steps, mcsteps + thermsteps)))\n",
    "\n",
    "    for k in range(steps):\n",
    "\n",
    "        for l in range(mcsteps + thermsteps):\n",
    "            i, j = rand_pos[k, l]\n",
    "\n",
    "            dE, dM = spins.update(i, j, temperatures[k], rands[k, l])\n",
    "            E += dE\n",
    "            M += dM\n",
    "\n",
    "            if l >= thermsteps:\n",
    "                energies[k, l-thermsteps] = E\n",
    "                magnetizations[k, l-thermsteps] = M\n",
    "\n",
    "\n",
    "    return energies, magnetizations, temperatures"
   ]
  },
  {
   "cell_type": "markdown",
   "metadata": {
    "id": "VN0UBWvURZFv"
   },
   "source": [
    "Ahora, se llama a la función con el rango de temperaturas y los steps siguientes:"
   ]
  },
  {
   "cell_type": "code",
   "execution_count": null,
   "metadata": {
    "id": "0uU9OYLXRZFw"
   },
   "outputs": [],
   "source": [
    "energies, magnetizations, temperatures = simulate_Ising(Ti=0.5, Tf=5, steps=50, size=40, mcsteps=600000, thermsteps=200000, init_state=1)"
   ]
  },
  {
   "cell_type": "markdown",
   "metadata": {
    "id": "CnMsq_57axZl"
   },
   "source": [
    "También nótese que se asigna `init_state=1`, esto significa que en la configuración inicial cada spin vale $+1$."
   ]
  },
  {
   "cell_type": "markdown",
   "metadata": {
    "id": "nFE6Xwm1RZFw"
   },
   "source": [
    "Como se vio anteriormente, la capacidad calorífica puede calcularse a partir de $<E>$ y $<E^2>$:"
   ]
  },
  {
   "cell_type": "code",
   "execution_count": null,
   "metadata": {
    "id": "W-3MVr6LRZFw"
   },
   "outputs": [],
   "source": [
    "mean_E = energies.mean(axis=1)\n",
    "mean_M = magnetizations.mean(axis=1)\n",
    "C = ((energies ** 2).mean(axis=1) - (energies.mean(axis=1)) ** 2) / (temperatures)"
   ]
  },
  {
   "cell_type": "markdown",
   "metadata": {
    "id": "4g93NobARZFw"
   },
   "source": [
    "Con la información anterior, se realizan gráficas de la energía, la magnetización y la capacidad calorífica en función de la temperatura:"
   ]
  },
  {
   "cell_type": "code",
   "execution_count": null,
   "metadata": {
    "colab": {
     "base_uri": "https://localhost:8080/",
     "height": 466
    },
    "id": "n3k8t-FpRZFw",
    "outputId": "d70a381a-928d-4193-9d8a-bb07b99d540d"
   },
   "outputs": [
    {
     "data": {
      "text/plain": [
       "Text(0.5, 0, 'Temperatura')"
      ]
     },
     "execution_count": 4,
     "metadata": {},
     "output_type": "execute_result"
    },
    {
     "data": {
      "image/png": "[encoded data removed]",
      "text/plain": [
       "<Figure size 640x480 with 1 Axes>"
      ]
     },
     "metadata": {},
     "output_type": "display_data"
    }
   ],
   "source": [
    "import matplotlib.pyplot as plt\n",
    "plt.plot(temperatures, mean_E, linestyle='None', marker='o')\n",
    "plt.ylabel(\"Energía Total\")\n",
    "plt.xlabel(\"Temperatura\")"
   ]
  },
  {
   "cell_type": "markdown",
   "metadata": {
    "id": "KMa5_bPE1XQl"
   },
   "source": []
  },
  {
   "cell_type": "markdown",
   "metadata": {
    "id": "jkqLE_RpXaoX"
   },
   "source": [
    "Como se puede ver en la gráfica, para temperaturas cercanas a 0 la energía total es muy cercana -3200. Esto concuerda con lo esperado, ya que, si se suponen condiciones periódicas de frontera, por cada espín hay una contribución a la energía total de -4 y la grilla contiene $1600$ spines. La contribución a la energía total es positiva porque en la configuración inicial se escogieron todos los espines con un valor de $+1$. Si se hubiera inciado con un estado donde todos los espines valieran $-1$, la energía total sería negativa. Si el estado inicial fuera aleatorio, después de la termalización, para temperaturas debajo de la temperatura crítica, eventualmente todos los espines adquirirían el mismo signo.\n",
    "\n",
    "Por ejemplo, para $T=1$ y un estado inicial aleatorio:"
   ]
  },
  {
   "cell_type": "code",
   "execution_count": null,
   "metadata": {
    "colab": {
     "base_uri": "https://localhost:8080/",
     "height": 466
    },
    "id": "m_woKfmgc5wr",
    "outputId": "d70f8d71-1855-4db8-8842-97c30b4d7b09"
   },
   "outputs": [
    {
     "data": {
      "text/plain": [
       "Text(0.5, 0, 'Número de iteración')"
      ]
     },
     "execution_count": 5,
     "metadata": {},
     "output_type": "execute_result"
    },
    {
     "data": {
      "image/png": "[encoded data removed]",
      "text/plain": [
       "<Figure size 640x480 with 1 Axes>"
      ]
     },
     "metadata": {},
     "output_type": "display_data"
    }
   ],
   "source": [
    "energies_rand, magnetizations_rand, temperatures_rand = simulate_Ising(Ti=1, Tf=1, steps=1, size=20, mcsteps=300000, thermsteps=0, init_state=0)\n",
    "plt.plot(magnetizations_rand[0])\n",
    "plt.ylabel(\"Magnetización\")\n",
    "plt.xlabel(\"Número de iteración\")"
   ]
  },
  {
   "cell_type": "markdown",
   "metadata": {
    "id": "wxfL1M5xiElU"
   },
   "source": [
    "Donde se puede observar que rápidamente la magnetización de la grilla de espines adquiere su valor máximo. Es decir, los spines pasaron de una distribución aleatoria a una distribución alienada."
   ]
  },
  {
   "cell_type": "markdown",
   "metadata": {
    "id": "CkcFXWkveFXV"
   },
   "source": [
    "Conforme la temperatura se acerca a la temperatura crítica $T_C = 2.27$ la energía comienza a incrementar rápidamente. Esto concuerda con lo esperado, ya que, según la teoría, la capacidad calorífica tiende diverge a infinito para un sistema de tamaño inifinito."
   ]
  },
  {
   "cell_type": "markdown",
   "metadata": {
    "id": "MxDkUQTmmiPQ"
   },
   "source": [
    "Al graficar el valor esperado de la magnetización se observa que incialmente vale 1600. Como era de esperar para espines alineados hacia arriba. Cuando la temperatura se acerca a la temperatura crítica, la magnetización cae rápidamente a un valor de 0. Esto tiene sentido, porque, para temperaturas mayores a la temperatura crítica, la configuración de espines se desordena."
   ]
  },
  {
   "cell_type": "code",
   "execution_count": null,
   "metadata": {
    "colab": {
     "base_uri": "https://localhost:8080/",
     "height": 466
    },
    "id": "y1o_9LM3RZFx",
    "outputId": "6c728863-a187-4152-a6b1-b5d2a838a597"
   },
   "outputs": [
    {
     "data": {
      "text/plain": [
       "Text(0.5, 0, 'Temperatura')"
      ]
     },
     "execution_count": 6,
     "metadata": {},
     "output_type": "execute_result"
    },
    {
     "data": {
      "image/png": "[encoded data removed]",
      "text/plain": [
       "<Figure size 640x480 with 1 Axes>"
      ]
     },
     "metadata": {},
     "output_type": "display_data"
    }
   ],
   "source": [
    "plt.plot(temperatures, mean_M, linestyle='None', marker='o')\n",
    "plt.ylabel(\"Valor esperado de la magnetización\")\n",
    "plt.xlabel(\"Temperatura\")"
   ]
  },
  {
   "cell_type": "markdown",
   "metadata": {
    "id": "8k0rKfaMpH5m"
   },
   "source": [
    "En la gráfica de capacidad calorífica, los resultados que se obtienen también son correctos; para temperaturas cercanas a 0 la capacidad calorífica es muy cercana a 0, para temperaturas cercanas a la temperatura crítica se observa un rápido crecimiento de la capacidad calorífica. Si este sistema fuera de tamaño infinito se observaría una divergencia al inifinito. Como el sistema es finito solo se observa un pico."
   ]
  },
  {
   "cell_type": "code",
   "execution_count": null,
   "metadata": {
    "colab": {
     "base_uri": "https://localhost:8080/",
     "height": 466
    },
    "id": "WoZmIZ5_RZFx",
    "outputId": "e2546d84-09ec-4157-adf1-ffb494f174c0"
   },
   "outputs": [
    {
     "data": {
      "text/plain": [
       "Text(0.5, 0, 'Temperatura')"
      ]
     },
     "execution_count": 7,
     "metadata": {},
     "output_type": "execute_result"
    },
    {
     "data": {
      "image/png": "[encoded data removed]",
      "text/plain": [
       "<Figure size 640x480 with 1 Axes>"
      ]
     },
     "metadata": {},
     "output_type": "display_data"
    }
   ],
   "source": [
    "plt.plot(temperatures, C, linestyle='None', marker='o')\n",
    "plt.ylabel(\"Capacidad calorífica\")\n",
    "plt.xlabel(\"Temperatura\")"
   ]
  },
  {
   "cell_type": "markdown",
   "metadata": {
    "id": "0xKKhH-o7tar"
   },
   "source": [
    "### Implementación en C++\n",
    "\n",
    "#### Módulos de la implementación\n",
    "\n",
    "* $\\texttt{ising.hpp}$ --> declaración de la clase\n",
    "* $\\texttt{ising.cpp}$ --> implementación de la clase\n",
    "* $\\texttt{run_ising.cpp}$ --> tiene la aplicación de la clase para `simulTemp`.\n",
    "* $\\texttt{simulation.cpp}$ --> tiene la aplicación para generar N *color maps* para diferentes iteraciones.\n",
    "* $\\texttt{simulation.sh}$ --> corre simulation.cpp (sin compilar) y genera un video de la secuencia.\n",
    "* $\\texttt{escalability_test.cpp}$ --> programa para medir el tiempo que tarda el método `configuration_update()`\n",
    "* $\\texttt{gnuplot-iostream.h}$ --> contiene la libreria que permite hacer el bind de gnuplot en C++ (implementación no propia)\n",
    "\n",
    "#### Instrucciones para la compilar y correr el código\n",
    "\n",
    "Esta implementación contiene varios módulos e implementaciones de códigos en C++ que se compilan con las siguientes instrucciones:\n",
    "\n",
    "* g++ -c -Wall -fopenmp ising.cpp {aplicación}.cpp\n",
    "* g++ -Wall ising.o {aplicación}.o -fopenmp -lboost_iostreams -lboost_system -lboost_filesystem -lboost_program_options\n",
    "\n",
    "*Remplazar {aplicación} por cualquiera de los módulos que `.cpp` (diferentes a ising.cpp)*\n",
    "\n",
    "- Esto genera un ejecutable $\\texttt{a.out}$. Para el caso de $\\texttt{simulation.cpp}$ no use este archivo, corra $\\texttt{simulation.sh}$.\n",
    "\n",
    "- Para utilizar un número diferente de hilos usar en la terminal\n",
    "\n",
    "```shell\n",
    "export OMP_NUM_THREAD={número de hilos}\n",
    "```\n",
    "\n",
    "**Importante**: Para compilar el código se necesita tener instalada la librería boost de C++, esto para poder utilizar $\\texttt{gnuplot-iostream.h}$ de otra forma no compilará, esto puede instalarse con\n",
    "\n",
    "```shell\n",
    "sudo apt-get install libboost-all-dev\n",
    "```\n",
    "\n",
    "\n",
    "\n",
    "En este caso se optó por un enfoque de programación orientada a objetos bajo la filosofía de C++, en la cual si el código cae es por una mala implementación de diseño. Por esto se diseño una clase para modelar el módelo de Ising, considerando dos factores principales.\n",
    "\n",
    "* Se plantea que la clase sea *memory safe*: la clase se diseña tal que no maneje recursos, es decir toda la memoria es maneja por la libreria estandándar.\n",
    "* Para evitar estados indeterminados se plantea que todos lo miembros sean privados y que tenga respectivos métodos públicos para visualizarlos.\n",
    "* Modulación del código: para que el código sea lo más portable posible que el código trabaje por módulos.\n",
    "    \n",
    "####  Construcción de la clase\n",
    "\n",
    "```C++\n",
    "class Ising\n",
    "{\n",
    "  private:\n",
    "    Ising(); //Default constructor\n",
    "    unsigned int N; //Dimension of the lattice\n",
    "    int energy;\n",
    "    int magnetization;\n",
    "    int sqenergy;\n",
    "    std::vector<int> lattice;\n",
    "    //private methods access only by configuration update\n",
    "    int close_neighbord_energy(const unsigned int &row, const unsigned int &col);\n",
    "    void plot(std::vector<double>& x, std::vector<double>& y, std::string file_name, std::string Xlabel, std::string Ylabel, std::string color, std::string Legend);\n",
    "    std::vector<double> sampling(const double &init, const double &end, const unsigned int &steps);\n",
    "\n",
    "  public:\n",
    "\n",
    "    //Constructors\n",
    "    Ising(const unsigned int &size);\n",
    "    ~Ising();\n",
    "    Ising(const Ising &obj);\n",
    "    Ising &operator=(const Ising &obj);\n",
    "    \n",
    "    //Methods\n",
    "    unsigned int get_N();\n",
    "    int getEnergy();\n",
    "    int getMagnetization();\n",
    "    int getSqenergy();\n",
    "    std::vector<int> get_lattice();\n",
    "    void lattice_cmap(const unsigned int& filenumber, const double &temperature, const unsigned int &iterations);\n",
    "    void configuration_reset();\n",
    "    void configuration_update(const double &beta, const double &J, const double &H, const unsigned int &max_iter);\n",
    "    void simulTemp(const double& T_max, const double& T_min, const unsigned int& steps, const unsigned int& iterations, const double& J, const double& H);\n",
    "\n",
    "};\n",
    "\n",
    "```\n",
    "\n",
    "El objeto representa la grilla de elementos con un spín inicial, además de características física. Los métodos en su mayoría modelan las interacción internas y externas de los elementos de la grilla. Por supuesto como todos los miembros son privados, se crean métodos para visualizar estos fuera de la implementación de la clase, para esto son los métodos públicos `get_N()`, `getEnergy()`, `getMagnetization()`, `getSqenergy()` y `get_lattice()`.\n",
    "\n",
    "Luego está `configuration_reset()`que retorna la grilla a su estado inicial o *default*, `configuration_update` ejecuta el algoritmo de metropolis y `simulTemp` simula el comportamiento de la grilla a diferentes temperaturas.\n",
    "\n",
    "El método `close_neighbord_energy`calcula el $dE$, y los otros métodos son simplemente para la visualización de la grilla.\n",
    "\n",
    "#### Implementación de la clase\n",
    "\n",
    "En este caso se discutirán los métodos relevantes para el módelado del fénomeno físico. Lo primero que hay que considerar antes de adentrarse en el análisis de los métodos es que todo el código está implementado bajo la premisa de que las condiciones de frontera son periódicas, ya que de otra forma hay optimizaciones en el código que no funcionan en otras condiciones o deben ser adaptadas, como la suma de vecinos más cercanos y el uso de mapas.\n",
    "\n",
    "##### Cambio de energía al rotar un spín\n",
    "```C++\n",
    "int Ising::close_neighbord_energy(const unsigned int &row, const unsigned int &col){\n",
    "  int dE = 0;\n",
    "  dE = 2*lattice[ (row*N) + col ]*( lattice[ ((row + N - 1) % N) * N + col ] +\n",
    "                                    lattice[((row + 1) % N) * N + col] +\n",
    "                                    lattice[row * N + (col + N - 1) % N] +\n",
    "                                    lattice[row * N + (col + 1) % N]\n",
    "                                   );\n",
    "  return dE;\n",
    "}\n",
    "\n",
    "```\n",
    "\n",
    "En este caso se tiene un método que dados los indices, toma un spin para el cuál calcula el cambio de energía con el método de frontera periódica. Esto se implementa de la siguiente manera, se multiplica por dos para tomar las interacciones con los vecinos una sola vez, luego utilizando la función de módulo, se puede elegir cualquier indice que siempre va estar dentro de la grilla. Es decir la grilla tiene una topología similar la de superficie de una esfera.\n",
    "\n",
    "##### Algoritmo de Metropolis\n",
    "```C++\n",
    "void Ising::configuration_update(const double &beta, const double &J, const double &H, const unsigned int &max_iter){\n",
    "  int dE = 0;\n",
    "  int dM = 0;\n",
    "  \n",
    "  std::random_device rd;\n",
    "  std::mt19937 rng(rd());\n",
    "  std::uniform_real_distribution<double> rndb(0, 1);\n",
    "\n",
    "  std::unordered_map<int, double> probE = {\n",
    "    {-8, exp(8 * beta * J)},\n",
    "    {-4, exp(4 * beta * J)},\n",
    "    {0, 1},\n",
    "    {4, exp(-4 * beta * J)},\n",
    "    {8, exp(-8 * beta * J)},\n",
    "  };\n",
    "\n",
    "  std::unordered_map<int, double> probM{\n",
    "    {-2, exp(-2*beta *H)},\n",
    "    {2, exp(2*beta*H)},\n",
    "  };\n",
    "  #pragma omp parallel reduction( + : energy, magnetization, sqenergy) shared(rng) private(dE,dM)\n",
    "  {\n",
    "  #pragma omp for schedule(static)\n",
    "    for (unsigned int i = 0; i < max_iter; ++i){\n",
    "\t  unsigned int row = static_cast<unsigned int>( floor(rndb(rng) * N));\n",
    "      unsigned int col = static_cast<unsigned int>( floor(rndb(rng) * N));\n",
    "\n",
    "      dE = close_neighbord_energy(row, col);\n",
    "      dM = 2*lattice[ (row*N) + col ];\n",
    "\n",
    "      if (rndb(rng) < probM[dM]*probE[dE]){\n",
    "        lattice[ (row*N) + col ] = -lattice[ (row*N) + col ];\n",
    "        energy += -dE;\n",
    "        sqenergy += dE*dE;\n",
    "      }\n",
    "      magnetization += dM;\n",
    "    }\n",
    "  }\n",
    "}\n",
    "```\n",
    "\n",
    "Está es la implementación del algoritmo de Metropolis, en este caso lo primero que se hace es usar un generador de números aleatorios como lo es el mersenne twister, se usa específicamente la distribución `mt19937` con un dispositivo random `random_device` que usa componentes del hardware para generar semillas y crear números aleatorios para una distribución uniforme de números pseudo aleatorios de tipo real.\n",
    "\n",
    "Luego, dada la naturaleza del algoritmo de Metropolis, como solo se voltea un spín a la vez, y como solo importan las interacciones entre elementos contiguos, se tiene una combinación finita de posibles $dE$ y $dM$ aprovechando está característica se crea un mapa para calcular fuera del *loop* las probabilidades, esto aumenta la eficiencia, ya que calcular exponenciales dentro de *for loops* tomaría tiempo inecesario. Notése que la probabilidad depende del Hamiltoniano, sin embargo por las propiedades de los exponenciales se puede obtener la probabilidad total como la multiplicación de la contribución de $JdE$ y $HdM$ por separado lo que nos permite usar dos mapas. Otro factor a destacar es que estos mapas son desordenados, ya que si bien toman más memoría(relativamente poca para este caso), son mucho más rápidos al no tener que ir elemento a elemento.\n",
    "\n",
    "Después de esto se habré un *for loop* donde se voltearán spines de manera aleatoria y dependiendo de la probabilidad de que esto se de se acepta o no el cambio, para ello se ocupan índices aleatorios que son calculados con una distribución uniforme real, y luego son convertidos a enteros. Cabe la duda del porque no se usó una distribución entera desde el inicio, y la respuesta está en que se notó una menor correlación entre los números enteros generados, ya que primero se evita la operación de módulo para determinar que el número esté en cierto rango esto se reemplaza con una multiplicación que requiere menos cíclos de computación, y un redondeo con la función `floor()`. Después con esos indices se calcula el cambio de energía y de magnetización para pasar a la condición de aceptación del algoritmo de Metropolis, en el cuál si la probabilidad de que el evento pasé es mayor a un número aleatorio, entonces se acepta el cambio de spin, lo que implica cambios de energía y de magnetización. Notése que la magnetización está fuera del *scope* del `if` se hizo así ya que no se calcula directamente la magnetización y el promedio de la magnetización para eventos muy grandes es lo suficientemente cercano al valor real de magnetización.\n",
    "\n",
    "###### Paralelización\n",
    "\n",
    "Para la paralelización se utilizó memoria distribuida con Open. El único método paralelizado fue este, esto debido a los siguientes factores:\n",
    "\n",
    "* Este método tiene operaciones atómicas sobre elementos que no son fácilmente reducibles fuera del método.\n",
    "* Este método permite no tener que generar hilos especiales para tratar con los generadores y dispositivos aleatorios lo que evita estados indeterminados.\n",
    "* Este es el método que por si solo requiere el mayor número de computaciones.\n",
    "* Los otros métodos que operan en *for loops* usan este método dentro de ellos, por lo que para evitar que regiones paralelas sean abiertas dentro de otras regiones paralelas sin control alguno lo que puede provocar potenciales perdidas de memoria que se quiere evitar a toda costa.\n",
    "\n",
    "Notése que los valores $dE$ y $dM$ deben pertencer a cada hilo por aparte, como se declararon fuera de la región, es necesario declararlos privados, por otro lado `rng` tiene que ser compartido, ya que esto evita una generación nueva de semillas cada vez que se cumple un cíclo del *loop*\n",
    "\n",
    "Luego el *schedule* es estático, ya que como las probabilidades están calculadas, y solo se manejan -1 y 1, el tiempo de computación es lo suficientemente equitativo para usar esto.\n",
    "\n",
    "##### Simulación del comportamiento de la grilla a diferentes temperaturas\n",
    "\n",
    "```C++\n",
    "void Ising::simulTemp(const double& T_max, const double& T_min, const unsigned int& steps, const unsigned int& iterations, const double& J, const double& H){\n",
    "\n",
    "  std::vector<double> T(steps , 0.0);\n",
    "  std::vector<double> mean_energy( steps, 0.0);\n",
    "  std::vector<double> mean_magnetization(steps, 0.0);\n",
    "  std::vector<double> specificHeat( steps, 0.0 );\n",
    "\n",
    "  T = sampling(T_min, T_max, steps);\n",
    "\n",
    "  for (unsigned i = 0; i < steps; ++i){\n",
    "    configuration_update(1/T[i], J, H, iterations);\n",
    "\n",
    "    mean_energy[i] = energy / (4.0*iterations);\n",
    "    mean_magnetization[i] = magnetization / (2.0*iterations);\n",
    "    specificHeat[i] = ( 1/std::pow(T[i],2) ) * ( sqenergy /(8.0*iterations) - std::pow( energy /(1.0*iterations), 2)/8.0 );\n",
    "\n",
    "    configuration_reset();\n",
    "  }\n",
    "\n",
    "  plot(T, mean_energy, \"Energy_plot\", \"Temperature (kT)\", \"Energy\", \"'red'\" ,\"mean energy per spin\");\n",
    "\n",
    "  plot(T, mean_magnetization, \"Magnetization_plot\", \"Temperature (kT)\", \"Magnetization\", \"'blue'\" ,\"mean magnetization per spin\");\n",
    "\n",
    "  plot(T, specificHeat, \"SpecHeat_plot\", \"Temperature (kT)\", \"Specific Heat\",\"'#00B1A0'\"  , \"specific heat\");\n",
    "\n",
    "}\n",
    "```\n",
    "\n",
    "Este método lo que hace es simular el comportamiento de la grilla a diferentes temperaturas, luego con con datos estadísticos obtiene relaciones de energía, magnetización y capacidad calorífica y los gráfica usando el método `plot()`. Básicamente toma la temperatura inicial y la temperatura final, el tamaño del salto entre temperatura y temperatura, y las iteraciones totales a ejecutar. Para esto se ocupan arreglos unidimensionales para guardar los valores. Posteriormente se gráfica las dependencias con la temperatura. Este método usa otros tres métodos de la clase, `sampling()`para crear un arreglo de Temperaturas con temperaturas equidistantes, `configuration_update()` para cambiar los spines de la grilla acorde con la temperatura (notése que el método toma $\\beta$ no $T$) usar la relación entre estas variables. Luego se usa `configuration_reset()` para tomar valores de energía, magnetización y capacidad calorífica acorde con la nueva temperatura.\n",
    "\n",
    "Estos son los métodos relevantes del módelo, los otros métodos simplimente son o para acceder a información de los miembros de la clase, o para la gráficación."
   ]
  },
  {
   "cell_type": "markdown",
   "metadata": {},
   "source": [
    "Las gráficas obtenidas a partir del este código fueron las siguientes:"
   ]
  },
  {
   "cell_type": "code",
   "execution_count": 4,
   "metadata": {},
   "outputs": [
    {
     "data": {
      "text/html": [
       "\n",
       "        <iframe\n",
       "            width=\"600\"\n",
       "            height=\"600\"\n",
       "            src=\"Plots/Energy_plot.pdf\"\n",
       "            frameborder=\"0\"\n",
       "            allowfullscreen\n",
       "            \n",
       "        ></iframe>\n",
       "        "
      ],
      "text/plain": [
       "<IPython.lib.display.IFrame at 0x70f24a10b700>"
      ]
     },
     "execution_count": 4,
     "metadata": {},
     "output_type": "execute_result"
    }
   ],
   "source": [
    "from IPython.display import IFrame\n",
    "IFrame(\"Plots/Energy_plot.pdf\", width = 600, height =600)"
   ]
  },
  {
   "cell_type": "code",
   "execution_count": 5,
   "metadata": {},
   "outputs": [
    {
     "data": {
      "text/html": [
       "\n",
       "        <iframe\n",
       "            width=\"600\"\n",
       "            height=\"600\"\n",
       "            src=\"Plots/Magnetization_plot.pdf\"\n",
       "            frameborder=\"0\"\n",
       "            allowfullscreen\n",
       "            \n",
       "        ></iframe>\n",
       "        "
      ],
      "text/plain": [
       "<IPython.lib.display.IFrame at 0x70f24a1098a0>"
      ]
     },
     "execution_count": 5,
     "metadata": {},
     "output_type": "execute_result"
    }
   ],
   "source": [
    "IFrame(\"Plots/Magnetization_plot.pdf\", width = 600, height =600)"
   ]
  },
  {
   "cell_type": "code",
   "execution_count": 6,
   "metadata": {},
   "outputs": [
    {
     "data": {
      "text/html": [
       "\n",
       "        <iframe\n",
       "            width=\"600\"\n",
       "            height=\"600\"\n",
       "            src=\"Plots/SpecHeat_plot.pdf\"\n",
       "            frameborder=\"0\"\n",
       "            allowfullscreen\n",
       "            \n",
       "        ></iframe>\n",
       "        "
      ],
      "text/plain": [
       "<IPython.lib.display.IFrame at 0x70f24a109b70>"
      ]
     },
     "execution_count": 6,
     "metadata": {},
     "output_type": "execute_result"
    }
   ],
   "source": [
    "IFrame(\"Plots/SpecHeat_plot.pdf\", width = 600, height =600)"
   ]
  },
  {
   "cell_type": "markdown",
   "metadata": {},
   "source": [
    "Las cuales son congruentes con las obtenidas con la implementción python.\n",
    "\n",
    "También tenemos el gráfico de escalabilidad al aplcar la paralelización, en la cual se observó que se paso un cambio de 11 s (1 hilo) hasta 3s (8 hilos), en una grilla de 1000x1000 con 10000000 iteraciones."
   ]
  },
  {
   "cell_type": "code",
   "execution_count": 7,
   "metadata": {},
   "outputs": [
    {
     "data": {
      "text/html": [
       "\n",
       "        <iframe\n",
       "            width=\"600\"\n",
       "            height=\"600\"\n",
       "            src=\"Plots/Escalability.pdf\"\n",
       "            frameborder=\"0\"\n",
       "            allowfullscreen\n",
       "            \n",
       "        ></iframe>\n",
       "        "
      ],
      "text/plain": [
       "<IPython.lib.display.IFrame at 0x70f24a10b130>"
      ]
     },
     "execution_count": 7,
     "metadata": {},
     "output_type": "execute_result"
    }
   ],
   "source": [
    "IFrame(\"Plots/Escalability.pdf\", width = 600, height =600)"
   ]
  },
  {
   "cell_type": "markdown",
   "metadata": {
    "id": "n1xGYvJOXF2e"
   },
   "source": [
    "## Conclusiones\n",
    "En general podemos recalcar los siguiente:\n",
    "- Con base en las diferentes gráficas se observa que la temperatura crítica $T ≈ 2.5 (k_{B} T)$.\n",
    "- Se observa la continuidad y tendencia esperadas de la energía, hay una subida de energía al acercarse al $T_{c}$.\n",
    "- La magnetización también tiene su cambio rápido de su valor inicial a 0 justo después de haber pasado por las temperatura crítica.\n",
    "- Se identifica el pico de desicontinuidad esperado en la capacidad calórifica cerca del valor de $T_{c}$.\n",
    "- Se comprueba con lo anterior que existe un cambio de fase.\n",
    "- Se redujo el tiempo de implemetación al aplicar la paralización en C++, en python dura aproximadamente 3-4 minutos. Mientras que en C++ el código para 1 hilo dura alrededor de 11 segundos para una grilla de $1000\\times1000$ para un *update* de $10 000 000$ de iteraciones, esto es mucho menor para una grilla mucho más grande y una cantidad mucho mayor de iteraciones, aunque esto no toma en cuenta el cambio de temperatura.\n",
    "- Hay una escalabilidad adecuada del modelo al utilizar OpenMP, pasa de 10 s con un hilo a cerca de los 3 segundos con 8 hilos.\n",
    "- La simulación muestra como ocurre la termalización del material (la alineación de espines). Comienza en espines en -1 a $T = 5(k_{B} T)$ y termina en espines 1 con $ T = 0.5 (k_{B} T)$."
   ]
  },
  {
   "cell_type": "markdown",
   "metadata": {
    "id": "Tur9_P9J2S_j"
   },
   "source": [
    "## Referencias del material\n",
    "El material referente a este trabajo se encuentra en el GitHub: https://github.com/d1eg011/Proyecto_FC\n",
    "\n",
    "La documentación del código de python se encuentra en: https://d1eg011.github.io/Proyecto_FC/"
   ]
  },
  {
   "cell_type": "markdown",
   "metadata": {
    "id": "CZnmOfgERZFx"
   },
   "source": [
    "## Bibliografía\n",
    "\n",
    "Bennett, D. (2016). _Numerical Solutions to the Ising Model using the Metropolis Algorithm_. https://www.maths.tcd.ie/~dbennett/js/ising.pdf\n",
    "\n",
    "Molignini P. (2013). _Analyzing the two dimensional Ising model with conformal field theory_. https://edu.itp.phys.ethz.ch/fs13/cft/SM2_Molignini.pdf\n",
    "\n",
    "Montes de Oca‑Mora, N.J. et al. (2023). J. Phys.: Conf. Ser. 2459 012028. https://iopscience.iop.org/article/10.1088/1742-6596/2459/1/012028"
   ]
  },
  {
   "cell_type": "code",
   "execution_count": null,
   "metadata": {},
   "outputs": [],
   "source": []
  }
 ],
 "metadata": {
  "colab": {
   "provenance": []
  },
  "kernelspec": {
   "display_name": "Python 3 (ipykernel)",
   "language": "python",
   "name": "python3"
  },
  "language_info": {
   "codemirror_mode": {
    "name": "ipython",
    "version": 3
   },
   "file_extension": ".py",
   "mimetype": "text/x-python",
   "name": "python",
   "nbconvert_exporter": "python",
   "pygments_lexer": "ipython3",
   "version": "3.10.12"
  }
 },
 "nbformat": 4,
 "nbformat_minor": 4
}
