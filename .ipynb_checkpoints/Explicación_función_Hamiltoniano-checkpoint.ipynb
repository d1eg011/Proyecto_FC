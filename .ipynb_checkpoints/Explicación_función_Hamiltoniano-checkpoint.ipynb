{
 "cells": [
  {
   "cell_type": "markdown",
   "id": "7cfdd323",
   "metadata": {},
   "source": [
    "## Relación entre convoluciones y suma de los elementos más cercanos de una matriz\n",
    "\n",
    "Explicación paso a paso de la función \n",
    "```Python\n",
    "def Hamiltonian(J, spin, H = 0): \n",
    "    kernel = sp.ndimage.generate_binary_structure(2,1)\n",
    "    kernel[1][1] = False\n",
    "    E_0 = spin*sp.ndimage.convolve(spin, kernel, mode= 'wrap', cval=0)\n",
    "    \n",
    "    return -H*spin.sum() -J*E_0.sum()\n",
    "```\n",
    "\n",
    "### Argumentos \n",
    "* `J`: intensidad de acoplamiento entre spines\n",
    "* `spin`: arreglo bi-dimensional con una determinada configuración para la grilla NxN\n",
    "* `H`: intensidad de campo magnético, es opcional, si no se pasa el valor se asume que es 0"
   ]
  },
  {
   "cell_type": "markdown",
   "id": "9ac0ac55",
   "metadata": {},
   "source": [
    "### Funcionalidad\n",
    "\n",
    "Se tienen las siguientes funciones\n",
    "\n",
    "```Python\n",
    "sp.ndimage.generate_binary_structure(rango,conectividad)\n",
    "```\n",
    "\n",
    "#### Argumentos\n",
    "* `rango`: valor entero que determina el rango de la estructura. *ojo*: es el rango, por ejemplo rango 2 implica arreglo bidimensional 3x3, rango 3 implica arreglo tridimensional 3x3x3.\n",
    "* `conectividad`: valor entero que indica si se consideran vecinos del elemento central, 1 implica que las diagonales se descartan.\n",
    "\n",
    "```Python\n",
    "scipy.ndimage.convolve(input, weight, output=None, mode, cval, origin=0)\n",
    "```\n",
    "#### Argumentos\n",
    "\n",
    "* `input`: arreglo de N dimensiones \n",
    "* `weight`: arreglo de N dimensiones (igual a la entrada), su tamaño de una dimensión siempre es 3, ejemplo una entrada 2D tiene un peso de la forma 3x3\n",
    "*  `output`: arreglo donde se guardan los resultados, 'None' solo hace que la función retorne un arreglo sin guardarlo.\n",
    "* `mode`: determina como extender las fronteras, `wrap`envuelve el arreglo y `constant` rellena extiende por una constante dada.\n",
    "* `cval`: constante por la que se extiende en el modo `constant`, si en nuestro caso considerasemos las froteras fijas en la suma de elementos más cercanos, los valores en las frontera tendrían un `cval=0`.\n",
    "* `origin`: donde se centra la convolución, si es 0, se centra en el elemento que corresponde al centro de la matriz 3x3 al rededor de un punto. \n",
    "\n",
    "Aquí dejo la documentación\n",
    "https://docs.scipy.org/doc/scipy/reference/generated/scipy.ndimage.convolve.html#scipy.ndimage.convolve"
   ]
  },
  {
   "cell_type": "code",
   "execution_count": 36,
   "id": "252df274",
   "metadata": {},
   "outputs": [],
   "source": [
    "import scipy as sp\n",
    "import numpy as np"
   ]
  },
  {
   "cell_type": "code",
   "execution_count": 37,
   "id": "afd12c11",
   "metadata": {},
   "outputs": [
    {
     "data": {
      "text/plain": [
       "array([[False,  True, False],\n",
       "       [ True,  True,  True],\n",
       "       [False,  True, False]])"
      ]
     },
     "execution_count": 37,
     "metadata": {},
     "output_type": "execute_result"
    }
   ],
   "source": [
    "kernel = sp.ndimage.generate_binary_structure(2,1)\n",
    "kernel"
   ]
  },
  {
   "cell_type": "markdown",
   "id": "eb4e67e8",
   "metadata": {},
   "source": [
    "Al operar con números el kernel es el equivalente a la siguiente matriz"
   ]
  },
  {
   "cell_type": "code",
   "execution_count": 38,
   "id": "240a3da7",
   "metadata": {},
   "outputs": [
    {
     "data": {
      "text/plain": [
       "array([[0, 1, 0],\n",
       "       [1, 1, 1],\n",
       "       [0, 1, 0]])"
      ]
     },
     "execution_count": 38,
     "metadata": {},
     "output_type": "execute_result"
    }
   ],
   "source": [
    "1*kernel"
   ]
  },
  {
   "cell_type": "markdown",
   "id": "9476a002",
   "metadata": {},
   "source": [
    "Al hacer el elemento central falso se obtine "
   ]
  },
  {
   "cell_type": "code",
   "execution_count": 39,
   "id": "8df3f1bc",
   "metadata": {},
   "outputs": [
    {
     "data": {
      "text/plain": [
       "array([[0, 1, 0],\n",
       "       [1, 0, 1],\n",
       "       [0, 1, 0]])"
      ]
     },
     "execution_count": 39,
     "metadata": {},
     "output_type": "execute_result"
    }
   ],
   "source": [
    "kernel[1][1] = False\n",
    "1*kernel"
   ]
  },
  {
   "cell_type": "code",
   "execution_count": 40,
   "id": "b756f92d",
   "metadata": {},
   "outputs": [
    {
     "data": {
      "text/plain": [
       "array([[9, 4, 0, 1, 9],\n",
       "       [0, 1, 8, 9, 0],\n",
       "       [8, 6, 4, 3, 0],\n",
       "       [4, 6, 8, 1, 8],\n",
       "       [4, 1, 3, 6, 5]])"
      ]
     },
     "execution_count": 40,
     "metadata": {},
     "output_type": "execute_result"
    }
   ],
   "source": [
    "np.random.seed(10) #hace que el resultado de random sea reproducible\n",
    "arreglo_prueba = np.random.randint(10,size=(5,5), dtype='int')\n",
    "arreglo_prueba"
   ]
  },
  {
   "cell_type": "markdown",
   "id": "cbc0ce20",
   "metadata": {},
   "source": [
    "tomemos el elemento `array[2][2]`= 4 y hagamos una matriz 3x3 con sus elementos más cercanos(incluyendo diagonales)\n",
    "\n",
    "$$\n",
    "\\begin{pmatrix}\n",
    "    1 & 8 & 9 \\\\\n",
    "    6 & 4 & 3 \\\\\n",
    "    6 & 8 & 1 \\\\ \n",
    "\\end{pmatrix}\n",
    "$$\n",
    "\n",
    "Hay dos funciones en scipy, está convolve y correlate, convolve hace que el kernel se invierta al pesar el arreglo, ejemplo, sea el kernel \n",
    "\n",
    "$$\n",
    "\\begin{pmatrix}\n",
    "    1 & 1 & 1 \\\\\n",
    "    1 & 1 & 0 \\\\\n",
    "    1 & 0 & 0 \\\\ \n",
    "\\end{pmatrix}\n",
    "$$\n",
    "\n",
    "Lo que hace convolve es multiplicar la matriz de elementos cercanos con el peso invertido de la siguiente manera\n",
    "\n",
    "##### Pesos aplicados del convolve\n",
    "$$\n",
    "\\begin{pmatrix}\n",
    "    0 & 0 & 1 \\\\\n",
    "    0 & 1 & 1 \\\\\n",
    "    1 & 1 & 1 \\\\ \n",
    "\\end{pmatrix}\n",
    "$$\n",
    "\n",
    "$$\n",
    "\\begin{pmatrix}\n",
    "    1*0 & 8*0 & 9*1 \\\\\n",
    "    6*0 & 4*1 & 3*1 \\\\\n",
    "    6*1 & 8*1 & 1*1 \\\\ \n",
    "\\end{pmatrix}\n",
    "$$\n",
    "\n",
    "Esto resulta en \n",
    "\n",
    "\\begin{pmatrix}\n",
    "    0 & 0 & 9 \\\\\n",
    "    0 & 4 & 3 \\\\\n",
    "    6 & 8 & 1 \\\\ \n",
    "\\end{pmatrix}\n",
    "$$\n",
    "\n",
    "Luego se suman todos los elementos de la matriz similar a un np.array.sum\n",
    "\n",
    "Entonces la nueva entrada `array[2][2]` = 0 + 0 + 9 + 0 + 4 + 3 + 6 + 8 + 1 = 31\n",
    "\n"
   ]
  },
  {
   "cell_type": "code",
   "execution_count": 41,
   "id": "2bd1a330",
   "metadata": {},
   "outputs": [
    {
     "data": {
      "text/plain": [
       "31"
      ]
     },
     "execution_count": 41,
     "metadata": {},
     "output_type": "execute_result"
    }
   ],
   "source": [
    "kernel1 = np.array([[1,1,1],[1,1,0],[1,0,0]])\n",
    "arreglo = sp.ndimage.convolve(arreglo_prueba, kernel1, mode= 'wrap')\n",
    "arreglo[2][2]"
   ]
  },
  {
   "cell_type": "markdown",
   "id": "fc13bbda",
   "metadata": {},
   "source": [
    "Para la suma de elementos cercanos usamos el kernel planteado arriba lo que nos da para el mismo arreglo de prueba\n",
    "\n",
    "**Kernel invertido = kernel original en este caso** \n",
    "$$\n",
    "\\begin{pmatrix}\n",
    "    0 & 1 & 0 \\\\\n",
    "    1 & 0 & 1 \\\\\n",
    "    0 & 1 & 0 \\\\ \n",
    "\\end{pmatrix}\n",
    "$$\n",
    "\n",
    "$$\n",
    "\\begin{pmatrix}\n",
    "    1*0 & 8*1 & 9*0 \\\\\n",
    "    6*1 & 4*0 & 3*1 \\\\\n",
    "    6*0 & 8*1 & 1*0 \\\\ \n",
    "\\end{pmatrix}\n",
    "$$\n",
    "\n",
    "Entonces la nueva entrada `array[2][2]` = 0 + 8 + 0 +\n",
    "                                          \n",
    "                                   6 + 0 + 3 +\n",
    "                                          \n",
    "                                   0 + 8 + 0   = 25\n",
    "                                   \n",
    "y es la suma de los elementos más cercanos."
   ]
  },
  {
   "cell_type": "code",
   "execution_count": 47,
   "id": "23eaa6ed",
   "metadata": {},
   "outputs": [
    {
     "data": {
      "text/plain": [
       "25"
      ]
     },
     "execution_count": 47,
     "metadata": {},
     "output_type": "execute_result"
    }
   ],
   "source": [
    "arreglo = sp.ndimage.convolve(arreglo_prueba, kernel, mode= 'wrap') #usa el kernel que usamos en nuestro código\n",
    "arreglo[2][2]"
   ]
  },
  {
   "cell_type": "code",
   "execution_count": null,
   "id": "b0fd5bfa",
   "metadata": {},
   "outputs": [],
   "source": []
  }
 ],
 "metadata": {
  "kernelspec": {
   "display_name": "Python 3 (ipykernel)",
   "language": "python",
   "name": "python3"
  },
  "language_info": {
   "codemirror_mode": {
    "name": "ipython",
    "version": 3
   },
   "file_extension": ".py",
   "mimetype": "text/x-python",
   "name": "python",
   "nbconvert_exporter": "python",
   "pygments_lexer": "ipython3",
   "version": "3.11.6"
  }
 },
 "nbformat": 4,
 "nbformat_minor": 5
}
