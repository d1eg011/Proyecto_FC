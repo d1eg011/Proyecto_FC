{
 "cells": [
  {
   "cell_type": "code",
   "execution_count": 2,
   "id": "307dddd2",
   "metadata": {},
   "outputs": [],
   "source": [
    "#Importación de funcionalidad\n",
    "import numpy as np\n",
    "import scipy as sp"
   ]
  },
  {
   "cell_type": "code",
   "execution_count": 35,
   "id": "ea49e825",
   "metadata": {},
   "outputs": [],
   "source": [
    "def Lattice_gencu(N): #Inicia la grilla en estado \"frío\" con spines arriba\n",
    "    return np.ones(N*N).reshape(N,N)"
   ]
  },
  {
   "cell_type": "code",
   "execution_count": 36,
   "id": "7c6459f8",
   "metadata": {},
   "outputs": [],
   "source": [
    "def Lattice_gencd(N): #Inicia la grilla en estado \"frío\" con spines abajo\n",
    "     return -np.ones(N*N).reshape(N,N)"
   ]
  },
  {
   "cell_type": "code",
   "execution_count": 37,
   "id": "07e9bf72",
   "metadata": {},
   "outputs": [],
   "source": [
    "def Lattice_genh(N): #Inicia la grilla con una distribución de spines random.\n",
    "    return np.random.choice([-1,1], N*N).reshape(N,N)"
   ]
  },
  {
   "cell_type": "code",
   "execution_count": 37,
   "id": "78d33021",
   "metadata": {},
   "outputs": [],
   "source": [
    "def Energy_of_configuration(spin): \n",
    "    kernel = sp.ndimage.generate_binary_structure(2,1)\n",
    "    kernel[1][1] = False\n",
    "    E_0 = spin*sp.ndimage.convolve(spin, kernel, mode= 'constant')\n",
    "    \n",
    "    return E_0.sum()"
   ]
  },
  {
   "cell_type": "code",
   "execution_count": 62,
   "id": "b68c5740",
   "metadata": {},
   "outputs": [],
   "source": [
    "def Magnetization_of_configuration(spin):\n",
    "    return np.sum(spin,dtype = np.int32)"
   ]
  },
  {
   "cell_type": "code",
   "execution_count": 36,
   "id": "06a581e9",
   "metadata": {},
   "outputs": [],
   "source": [
    "def Flip(spin):  \n",
    "    row, col = np.random.randint(0,spin.shape[0]-1), np.random.randint(0, spin.shape[1]-1)\n",
    "    \n",
    "    spin = np.copy(spin)\n",
    "    spin[row][col] = -1 if (spin[row][col] > 0) else 1\n",
    "    \n",
    "    return spin"
   ]
  },
  {
   "cell_type": "code",
   "execution_count": 325,
   "id": "2d787aee",
   "metadata": {},
   "outputs": [],
   "source": [
    " def Configuration_update_H(β, J, H = 0.0 ,spin, Energy_calculator):\n",
    "        N = spin.shape[0]\n",
    "        spin = np.copy(spin)\n",
    "        #rand_row = np.random.randint(N, size = N)\n",
    "        #rand_col = np.random.randint(N, size = N)\n",
    "        random_condition_energy = np.random.default_rng().random(N**2)\n",
    "        for i in range(0,N**2):\n",
    "            spin1 = Flip(spin)\n",
    "            #spin1 = spin\n",
    "            #spin1[rand_row[i]][rand_col[i]] = -1 if (spin[row][col] > 0) else 1\n",
    "            δH = -H*(spin1.sum()-spin.sum()) -J*(Energy_calculator(spin1) - Energy_calculator(spin))\n",
    "            \n",
    "            if (δH < 0):\n",
    "                spin = spin1\n",
    "            elif(random_condition_energy[i] < np.exp(-β*δH)):\n",
    "                spin = spin1\n",
    "            \n",
    "        return spin"
   ]
  },
  {
   "cell_type": "code",
   "execution_count": 587,
   "id": "15e51bf5",
   "metadata": {},
   "outputs": [],
   "source": [
    "def Ising_model(N):\n",
    "    pass\n",
    "    \n",
    "    T = np.linspace(1.2,3.8,N**2)\n",
    "    energy= magnetization = heat_capacity = np.zeros(N**2)\n",
    "    n1 = 1/N**3\n",
    "    n2 = 1/N**4\n",
    "    \n",
    "    for t in range(N**2):\n",
    "        spin = Lattice_gencu(N)\n",
    "        \n",
    "        energy1 = magn1= energy2 = magn2 = 0\n",
    "        \n",
    "        β = 1/T\n",
    "        β2 = β**2\n",
    "        \n",
    "        for _ in range(N**2):\n",
    "            Configuration_update_H(β, 1,0, spin, Energy_of_configuration)\n",
    "    "
   ]
  }
 ],
 "metadata": {
  "kernelspec": {
   "display_name": "Python 3 (ipykernel)",
   "language": "python",
   "name": "python3"
  },
  "language_info": {
   "codemirror_mode": {
    "name": "ipython",
    "version": 3
   },
   "file_extension": ".py",
   "mimetype": "text/x-python",
   "name": "python",
   "nbconvert_exporter": "python",
   "pygments_lexer": "ipython3",
   "version": "3.11.6"
  }
 },
 "nbformat": 4,
 "nbformat_minor": 5
}
