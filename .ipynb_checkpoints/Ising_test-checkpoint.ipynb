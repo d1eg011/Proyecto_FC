{
 "cells": [
  {
   "cell_type": "code",
   "execution_count": 13,
   "id": "307dddd2",
   "metadata": {},
   "outputs": [],
   "source": [
    "#Importación de funcionalidad\n",
    "import numpy as np\n",
    "import scipy as sp"
   ]
  },
  {
   "cell_type": "code",
   "execution_count": 14,
   "id": "ea49e825",
   "metadata": {},
   "outputs": [],
   "source": [
    "def Lattice_gencu(N): #Inicia la grilla en estado \"frío\" con spines arriba\n",
    "    return np.ones(N*N).reshape(N,N)"
   ]
  },
  {
   "cell_type": "code",
   "execution_count": 15,
   "id": "7c6459f8",
   "metadata": {},
   "outputs": [],
   "source": [
    "def Lattice_gencd(N): #Inicia la grilla en estado \"frío\" con spines abajo\n",
    "     return -np.ones(N*N).reshape(N,N)"
   ]
  },
  {
   "cell_type": "code",
   "execution_count": 16,
   "id": "07e9bf72",
   "metadata": {},
   "outputs": [],
   "source": [
    "def Lattice_genh(N): #Inicia la grilla con una distribución de spines random.\n",
    "    return np.random.choice([-1,1], N*N).reshape(N,N)"
   ]
  },
  {
   "cell_type": "code",
   "execution_count": 18,
   "id": "78d33021",
   "metadata": {},
   "outputs": [],
   "source": [
    "def Hamiltonian(H,J, spin): \n",
    "    kernel = sp.ndimage.generate_binary_structure(2,1)\n",
    "    kernel[1][1] = False\n",
    "    E_0 = spin*sp.ndimage.convolve(spin, kernel, mode= 'constant', cval=0)\n",
    "    \n",
    "    return -H*spin.sum() -J*E_0.sum()"
   ]
  },
  {
   "cell_type": "code",
   "execution_count": 17,
   "id": "06a581e9",
   "metadata": {},
   "outputs": [],
   "source": [
    "def Flip(spin):   \n",
    "    row, col = np.random.randint(0,spin.shape[0]-1), np.random.randint(0, spin.shape[1]-1)\n",
    "    \n",
    "    spin = np.copy(spin)\n",
    "    spin[row][col] = -1 if (spin[row][col] > 0) else 1\n",
    "    \n",
    "    return spin"
   ]
  },
  {
   "cell_type": "code",
   "execution_count": 87,
   "id": "12ec089f",
   "metadata": {},
   "outputs": [],
   "source": [
    " def Configuration_update(β, H, J, spin, Hamiltonian, Flip):\n",
    "        W = 0.0\n",
    "        for i in range(0,spin.shape[0]*spin.shape[1]): \n",
    "            r = np.random.rand()\n",
    "            spin1 = Flip(spin)\n",
    "            δH = Hamiltonian(H,J,spin1) - Hamiltonian(H, J, spin)\n",
    "            if (δH < 0):\n",
    "                W = 1\n",
    "            elif(δH > 0):\n",
    "                W = np.exp(-β*δH)\n",
    "            \n",
    "            if (r > W):\n",
    "                spin = spin1\n",
    "            elif(r <= W):\n",
    "                spin = spin\n",
    "            \n",
    "        return spin"
   ]
  }
 ],
 "metadata": {
  "kernelspec": {
   "display_name": "Python 3 (ipykernel)",
   "language": "python",
   "name": "python3"
  },
  "language_info": {
   "codemirror_mode": {
    "name": "ipython",
    "version": 3
   },
   "file_extension": ".py",
   "mimetype": "text/x-python",
   "name": "python",
   "nbconvert_exporter": "python",
   "pygments_lexer": "ipython3",
   "version": "3.11.6"
  }
 },
 "nbformat": 4,
 "nbformat_minor": 5
}
