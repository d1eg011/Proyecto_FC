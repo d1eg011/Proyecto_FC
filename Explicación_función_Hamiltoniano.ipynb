{
 "cells": [
  {
   "cell_type": "markdown",
   "id": "6fc7a940",
   "metadata": {},
   "source": [
    "## Relación entre convoluciones y suma de los elementos más cercanos de una matriz\n",
    "\n",
    "Explicación paso a paso de la función \n",
    "```Python\n",
    "def Hamiltonian(J, spin, H = 0): \n",
    "    kernel = sp.ndimage.generate_binary_structure(2,1)\n",
    "    kernel[1][1] = False\n",
    "    E_0 = spin*sp.ndimage.convolve(spin, kernel, mode= 'wrap', cval=0)\n",
    "    \n",
    "    return -H*spin.sum() -J*E_0.sum()\n",
    "```\n",
    "\n",
    "### Argumentos \n",
    "* `J`: intensidad de acoplamiento entre spines\n",
    "* `spin`: arreglo bi-dimensional con una determinada configuración para la grilla NxN\n",
    "* `H`: intensidad de campo magnético, es opcional, si no se pasa el valor se asume que es 0"
   ]
  },
  {
   "cell_type": "markdown",
   "id": "8a61f077",
   "metadata": {},
   "source": [
    "### Funcionalidad\n",
    "\n",
    "Se tienen las siguientes funciones\n",
    "\n",
    "```Python\n",
    "sp.ndimage.generate_binary_structure(rango,conectividad)\n",
    "```\n",
    "\n",
    "#### Argumentos\n",
    "* `rango`: valor entero que determina el rango de la estructura. *ojo*: es el rango, por ejemplo rango 2 implica arreglo bidimensional 3x3, rango 3 implica arreglo tridimensional 3x3x3.\n",
    "* `conectividad`: valor entero que indica si se consideran vecinos del elemento central, 1 implica que las diagonales se descartan.\n",
    "\n",
    "```Python\n",
    "scipy.ndimage.convolve(input, weight, output=None, mode, cval, origin=0)\n",
    "```\n",
    "#### Argumentos\n",
    "\n",
    "* `input`: arreglo de N dimensiones \n",
    "* `weight`: arreglo de N dimensiones (igual a la entrada), su tamaño de una dimensión siempre es 3, ejemplo una entrada 2D tiene un peso de la forma 3x3\n",
    "*  `output`: arreglo donde se guardan los resultados, 'None' solo hace que la función retorne un arreglo sin guardarlo.\n",
    "* `mode`: determina como extender las fronteras, `wrap`envuelve el arreglo y `constant` rellena extiende por una constante dada.\n",
    "* `cval`: constante por la que se extiende en el modo `constant`, si en nuestro caso considerasemos las froteras fijas en la suma de elementos más cercanos, los valores en las frontera tendrían un `cval=0`.\n",
    "* `origin`: donde se centra la convolución, si es 0, se centra en el elemento que corresponde al centro de la matriz 3x3 al rededor de un punto. \n",
    "\n",
    "Aquí dejo la documentación\n",
    "https://docs.scipy.org/doc/scipy/reference/generated/scipy.ndimage.convolve.html#scipy.ndimage.convolve"
   ]
  },
  {
   "cell_type": "code",
   "execution_count": 36,
   "id": "fc27cae1",
   "metadata": {},
   "outputs": [],
   "source": [
    "import scipy as sp\n",
    "import numpy as np"
   ]
  },
  {
   "cell_type": "code",
   "execution_count": 37,
   "id": "949adf71",
   "metadata": {},
   "outputs": [
    {
     "data": {
      "text/plain": [
       "array([[False,  True, False],\n",
       "       [ True,  True,  True],\n",
       "       [False,  True, False]])"
      ]
     },
     "execution_count": 37,
     "metadata": {},
     "output_type": "execute_result"
    }
   ],
   "source": [
    "kernel = sp.ndimage.generate_binary_structure(2,1)\n",
    "kernel"
   ]
  },
  {
   "cell_type": "markdown",
   "id": "cc47fce5",
   "metadata": {},
   "source": [
    "Al operar con números el kernel es el equivalente a la siguiente matriz"
   ]
  },
  {
   "cell_type": "code",
   "execution_count": 38,
   "id": "a7322abf",
   "metadata": {},
   "outputs": [
    {
     "data": {
      "text/plain": [
       "array([[0, 1, 0],\n",
       "       [1, 1, 1],\n",
       "       [0, 1, 0]])"
      ]
     },
     "execution_count": 38,
     "metadata": {},
     "output_type": "execute_result"
    }
   ],
   "source": [
    "1*kernel"
   ]
  },
  {
   "cell_type": "markdown",
   "id": "d2ed4424",
   "metadata": {},
   "source": [
    "Al hacer el elemento central falso se obtine "
   ]
  },
  {
   "cell_type": "code",
   "execution_count": 39,
   "id": "9e390aed",
   "metadata": {},
   "outputs": [
    {
     "data": {
      "text/plain": [
       "array([[0, 1, 0],\n",
       "       [1, 0, 1],\n",
       "       [0, 1, 0]])"
      ]
     },
     "execution_count": 39,
     "metadata": {},
     "output_type": "execute_result"
    }
   ],
   "source": [
    "kernel[1][1] = False\n",
    "1*kernel"
   ]
  },
  {
   "cell_type": "code",
   "execution_count": 40,
   "id": "de1fb9b9",
   "metadata": {},
   "outputs": [
    {
     "data": {
      "text/plain": [
       "array([[9, 4, 0, 1, 9],\n",
       "       [0, 1, 8, 9, 0],\n",
       "       [8, 6, 4, 3, 0],\n",
       "       [4, 6, 8, 1, 8],\n",
       "       [4, 1, 3, 6, 5]])"
      ]
     },
     "execution_count": 40,
     "metadata": {},
     "output_type": "execute_result"
    }
   ],
   "source": [
    "np.random.seed(10) #hace que el resultado de random sea reproducible\n",
    "arreglo_prueba = np.random.randint(10,size=(5,5), dtype='int')\n",
    "arreglo_prueba"
   ]
  },
  {
   "cell_type": "markdown",
   "id": "1698dcea",
   "metadata": {},
   "source": [
    "tomemos el elemento `array[2][2]`= 4 y hagamos una matriz 3x3 con sus elementos más cercanos(incluyendo diagonales)\n",
    "\n",
    "$$\n",
    "\\begin{pmatrix}\n",
    "    1 & 8 & 9 \\\\\n",
    "    6 & 4 & 3 \\\\\n",
    "    6 & 8 & 1 \\\\ \n",
    "\\end{pmatrix}\n",
    "$$\n",
    "\n",
    "Hay dos funciones en scipy, está convolve y correlate, convolve hace que el kernel se invierta al pesar el arreglo, ejemplo, sea el kernel \n",
    "\n",
    "$$\n",
    "\\begin{pmatrix}\n",
    "    1 & 1 & 1 \\\\\n",
    "    1 & 1 & 0 \\\\\n",
    "    1 & 0 & 0 \\\\ \n",
    "\\end{pmatrix}\n",
    "$$\n",
    "\n",
    "Lo que hace convolve es multiplicar la matriz de elementos cercanos con el peso invertido de la siguiente manera\n",
    "\n",
    "##### Pesos aplicados del convolve\n",
    "$$\n",
    "\\begin{pmatrix}\n",
    "    0 & 0 & 1 \\\\\n",
    "    0 & 1 & 1 \\\\\n",
    "    1 & 1 & 1 \\\\ \n",
    "\\end{pmatrix}\n",
    "$$\n",
    "\n",
    "$$\n",
    "\\begin{pmatrix}\n",
    "    1*0 & 8*0 & 9*1 \\\\\n",
    "    6*0 & 4*1 & 3*1 \\\\\n",
    "    6*1 & 8*1 & 1*1 \\\\ \n",
    "\\end{pmatrix}\n",
    "$$\n",
    "\n",
    "Esto resulta en \n",
    "\n",
    "\\begin{pmatrix}\n",
    "    0 & 0 & 9 \\\\\n",
    "    0 & 4 & 3 \\\\\n",
    "    6 & 8 & 1 \\\\ \n",
    "\\end{pmatrix}\n",
    "$$\n",
    "\n",
    "Luego se suman todos los elementos de la matriz similar a un np.array.sum\n",
    "\n",
    "Entonces la nueva entrada `array[2][2]` = 0 + 0 + 9 + 0 + 4 + 3 + 6 + 8 + 1 = 31\n",
    "\n"
   ]
  },
  {
   "cell_type": "code",
   "execution_count": 41,
   "id": "65c0a5da",
   "metadata": {},
   "outputs": [
    {
     "data": {
      "text/plain": [
       "31"
      ]
     },
     "execution_count": 41,
     "metadata": {},
     "output_type": "execute_result"
    }
   ],
   "source": [
    "kernel1 = np.array([[1,1,1],[1,1,0],[1,0,0]])\n",
    "arreglo = sp.ndimage.convolve(arreglo_prueba, kernel1, mode= 'wrap')\n",
    "arreglo[2][2]"
   ]
  },
  {
   "cell_type": "markdown",
   "id": "727cb274",
   "metadata": {},
   "source": [
    "Para la suma de elementos cercanos usamos el kernel planteado arriba lo que nos da para el mismo arreglo de prueba\n",
    "\n",
    "**Kernel invertido = kernel original en este caso** \n",
    "$$\n",
    "\\begin{pmatrix}\n",
    "    0 & 1 & 0 \\\\\n",
    "    1 & 0 & 1 \\\\\n",
    "    0 & 1 & 0 \\\\ \n",
    "\\end{pmatrix}\n",
    "$$\n",
    "\n",
    "$$\n",
    "\\begin{pmatrix}\n",
    "    1*0 & 8*1 & 9*0 \\\\\n",
    "    6*1 & 4*0 & 3*1 \\\\\n",
    "    6*0 & 8*1 & 1*0 \\\\ \n",
    "\\end{pmatrix}\n",
    "$$\n",
    "\n",
    "Entonces la nueva entrada `array[2][2]` = 0 + 8 + 0 +\n",
    "                                          \n",
    "                                   6 + 0 + 3 +\n",
    "                                          \n",
    "                                   0 + 8 + 0   = 25\n",
    "                                   \n",
    "y es la suma de los elementos más cercanos."
   ]
  },
  {
   "cell_type": "code",
   "execution_count": 47,
   "id": "01940b8a",
   "metadata": {},
   "outputs": [
    {
     "data": {
      "text/plain": [
       "25"
      ]
     },
     "execution_count": 47,
     "metadata": {},
     "output_type": "execute_result"
    }
   ],
   "source": [
    "arreglo = sp.ndimage.convolve(arreglo_prueba, kernel, mode= 'wrap') #usa el kernel que usamos en nuestro código\n",
    "arreglo[2][2]"
   ]
  },
  {
   "cell_type": "markdown",
   "id": "1fc89881",
   "metadata": {},
   "source": [
    "Como el kernel es simétrico otro método es usar sp.ndimage.correlate que tiene los mismo argumentos y la misma función que covolve, pero no invierte el kernel.\n",
    "\n",
    "Veamos el elemento centrado en el indice `array[1][1]`\n",
    "\n",
    "$$\n",
    "\\begin{pmatrix}\n",
    "    9 & 4 & 0 \\\\\n",
    "    0 & 1 & 8 \\\\\n",
    "    8 & 6 & 4 \\\\ \n",
    "\\end{pmatrix}\n",
    "$$\n",
    "\n",
    "La suma de los elementos más cercanos es \n",
    "\n",
    "suma = 4 + 0 + 8 + 6 = 18 "
   ]
  },
  {
   "cell_type": "code",
   "execution_count": 50,
   "id": "50092cfb",
   "metadata": {},
   "outputs": [
    {
     "data": {
      "text/plain": [
       "18"
      ]
     },
     "execution_count": 50,
     "metadata": {},
     "output_type": "execute_result"
    }
   ],
   "source": [
    "arreglo1 = sp.ndimage.correlate(arreglo_prueba, kernel, mode = 'wrap')\n",
    "arreglo[1][1]"
   ]
  },
  {
   "cell_type": "markdown",
   "id": "bb4f796f",
   "metadata": {},
   "source": [
    "La pregunta es, para el caso en el que necesitamos esto ¿hay alguna diferencia la velocidad?\n",
    "\n",
    "Midiendo el tiempo en que tardan en ejecutarse con el comando mágico `%timeit function()`"
   ]
  },
  {
   "cell_type": "code",
   "execution_count": 53,
   "id": "aa018bf4",
   "metadata": {},
   "outputs": [],
   "source": [
    "def correlate(array, kern):\n",
    "    return sp.ndimage.correlate(array, kern, mode = 'wrap')\n",
    "\n",
    "def convolve(array, kern):\n",
    "    return sp.ndimage.correlate(array, kern, mode = 'wrap')"
   ]
  },
  {
   "cell_type": "code",
   "execution_count": 62,
   "id": "458a0292",
   "metadata": {},
   "outputs": [
    {
     "name": "stdout",
     "output_type": "stream",
     "text": [
      "15.9 µs ± 2.45 µs per loop (mean ± std. dev. of 7 runs, 100,000 loops each)\n"
     ]
    }
   ],
   "source": [
    "%timeit correlate(arreglo_prueba, kernel)"
   ]
  },
  {
   "cell_type": "code",
   "execution_count": 63,
   "id": "19f9e3b8",
   "metadata": {},
   "outputs": [
    {
     "name": "stdout",
     "output_type": "stream",
     "text": [
      "11.1 µs ± 532 ns per loop (mean ± std. dev. of 7 runs, 100,000 loops each)\n"
     ]
    }
   ],
   "source": [
    "%timeit convolve(arreglo_prueba, kernel)"
   ]
  },
  {
   "cell_type": "markdown",
   "id": "6c20d9d0",
   "metadata": {},
   "source": [
    "Como se ve son muy similares, pero lo corrí varias veces y parece que convolve es ligeramente más rápido como unos 3 $\\mu s$, para iteraciones muy grande nos conviene convolve.\n",
    "\n",
    "Por último para el hamiltoniano, lo único que hay que hacer es multiplicar elemento por elemento el arreglo de spines por el del resultado de convolve esto da en el i-ésimo indice\n",
    "\n",
    "$$\n",
    "\\begin{equation}\n",
    "    E_{0,i,j} = spin\\cdot array_{i,j} = \\sigma_{i,j}\\cdot(\\sigma_{i+1,j} + \\sigma_{i-1,j} + \\sigma_{i,j+1} + \\sigma_{i,j-1})\n",
    "\\end{equation}\n",
    "$$\n",
    "\n",
    "después para obtener la suma total de eso basta un `-J*E_0.sum()`, esto nos da con $H = 0$\n",
    "\n",
    "$$\n",
    "\\begin{equation}\n",
    "    \\mathscr{H} = -J\\sum_{<i,j>}^N{\\sigma_{i,j}\\cdot(\\sigma_{i+1,j} + \\sigma_{i-1,j} + \\sigma_{i,j+1} + \\sigma_{i,j-1})}\n",
    "\\end{equation}\n",
    "$$\n",
    "\n",
    "Aquí está la equivalencia que les comenté y es mucho más rápido que con los for loops."
   ]
  }
 ],
 "metadata": {
  "kernelspec": {
   "display_name": "Python 3 (ipykernel)",
   "language": "python",
   "name": "python3"
  },
  "language_info": {
   "codemirror_mode": {
    "name": "ipython",
    "version": 3
   },
   "file_extension": ".py",
   "mimetype": "text/x-python",
   "name": "python",
   "nbconvert_exporter": "python",
   "pygments_lexer": "ipython3",
   "version": "3.11.6"
  }
 },
 "nbformat": 4,
 "nbformat_minor": 5
}
