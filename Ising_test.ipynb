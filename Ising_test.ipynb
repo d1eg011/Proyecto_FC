{
 "cells": [
  {
   "cell_type": "code",
   "execution_count": 258,
   "id": "307dddd2",
   "metadata": {},
   "outputs": [],
   "source": [
    "#Importación de funcionalidad\n",
    "import numpy as np\n",
    "import scipy as sp\n",
    "import matplotlib.pyplot as plt"
   ]
  },
  {
   "cell_type": "code",
   "execution_count": 259,
   "id": "ea49e825",
   "metadata": {},
   "outputs": [],
   "source": [
    "def Lattice_gencu(N): #Inicia la grilla en estado \"frío\" con spines arriba\n",
    "    return np.ones(N*N).reshape(N,N)"
   ]
  },
  {
   "cell_type": "code",
   "execution_count": 260,
   "id": "7c6459f8",
   "metadata": {},
   "outputs": [],
   "source": [
    "def Lattice_gencd(N): #Inicia la grilla en estado \"frío\" con spines abajo\n",
    "     return -np.ones(N*N).reshape(N,N)"
   ]
  },
  {
   "cell_type": "code",
   "execution_count": 261,
   "id": "07e9bf72",
   "metadata": {},
   "outputs": [],
   "source": [
    "def Lattice_genh(N): #Inicia la grilla con una distribución de spines random.\n",
    "    return np.random.choice([-1,1], N*N).reshape(N,N)"
   ]
  },
  {
   "cell_type": "code",
   "execution_count": 262,
   "id": "78d33021",
   "metadata": {},
   "outputs": [],
   "source": [
    "def Energy_of_configuration(spin): \n",
    "    kernel = sp.ndimage.generate_binary_structure(2,1)\n",
    "    kernel[1][1] = False\n",
    "    E_0 = spin*sp.ndimage.convolve(spin, kernel, mode= 'constant')\n",
    "    \n",
    "    return E_0.sum()"
   ]
  },
  {
   "cell_type": "code",
   "execution_count": 263,
   "id": "b68c5740",
   "metadata": {},
   "outputs": [],
   "source": [
    "def Magnetization_of_configuration(spin):\n",
    "    return np.sum(spin,dtype = np.int32)"
   ]
  },
  {
   "cell_type": "code",
   "execution_count": 264,
   "id": "274fabba",
   "metadata": {},
   "outputs": [],
   "source": [
    " def Configuration_update_H(β, J, spin, H = 0.0, iterations= 100000):\n",
    "        N = spin.shape[0]\n",
    "        random_condition_energy = np.random.default_rng().random(iterations)\n",
    "        for i in range(0,iterations):\n",
    "            spin1 = np.copy(spin)\n",
    "            row, col = np.random.randint(N), np.random.randint(N)\n",
    "            spin1[row][col] = -1 if (spin[row][col] > 0) else 1\n",
    "            dE = spin1[row,col]*(spin1[(row + 1)%N, col] + spin1[(row - 1)%N, col] + spin1[(row + 1)%N, col] + spin1[row , (col + 1)%N] + spin1[row , (col - 1)%N])\n",
    "            δH = -H*(spin1.sum()-spin.sum()) -J*dE\n",
    "            \n",
    "            if(random_condition_energy[i] < np.exp(-β*δH)):\n",
    "                spin = spin1\n",
    "\n",
    "        return spin"
   ]
  },
  {
   "cell_type": "code",
   "execution_count": 265,
   "id": "e10233a0",
   "metadata": {},
   "outputs": [],
   "source": [
    "spin = Lattice_gencu(100)\n",
    "\n",
    "spin1 = Configuration_update_H2(0.0,1,spin)"
   ]
  },
  {
   "cell_type": "code",
   "execution_count": 266,
   "id": "c0e7f33b",
   "metadata": {},
   "outputs": [
    {
     "data": {
      "image/png": "[encoded data removed]",
      "text/plain": [
       "<Figure size 640x480 with 1 Axes>"
      ]
     },
     "metadata": {},
     "output_type": "display_data"
    }
   ],
   "source": [
    "im = plt.imshow(spin, cmap='hot', interpolation='none')"
   ]
  },
  {
   "cell_type": "code",
   "execution_count": 267,
   "id": "399985e1",
   "metadata": {},
   "outputs": [
    {
     "data": {
      "image/png": "[encoded data removed]",
      "text/plain": [
       "<Figure size 640x480 with 1 Axes>"
      ]
     },
     "metadata": {},
     "output_type": "display_data"
    }
   ],
   "source": [
    "im = plt.imshow(spin1, cmap='hot', interpolation='none')"
   ]
  },
  {
   "cell_type": "code",
   "execution_count": 10,
   "id": "15e51bf5",
   "metadata": {},
   "outputs": [],
   "source": [
    "def Ising_model(N):\n",
    "    pass\n",
    "    \n",
    "    T = np.linspace(1.2,3.8,N**2)\n",
    "    energy= magnetization = heat_capacity = np.zeros(N**2)\n",
    "    n1 = 1/N**3\n",
    "    n2 = 1/N**4\n",
    "    \n",
    "    for t in range(N**2):\n",
    "        spin = Lattice_gencu(N)\n",
    "        \n",
    "        energy1 = magn1= energy2 = magn2 = 0\n",
    "        \n",
    "        β = 1/T\n",
    "        β2 = β**2\n",
    "        \n",
    "        for _ in range(N**2):\n",
    "            Configuration_update_H(β, 1,0, spin, Energy_of_configuration)\n",
    "    "
   ]
  }
 ],
 "metadata": {
  "kernelspec": {
   "display_name": "Python 3 (ipykernel)",
   "language": "python",
   "name": "python3"
  },
  "language_info": {
   "codemirror_mode": {
    "name": "ipython",
    "version": 3
   },
   "file_extension": ".py",
   "mimetype": "text/x-python",
   "name": "python",
   "nbconvert_exporter": "python",
   "pygments_lexer": "ipython3",
   "version": "3.11.6"
  }
 },
 "nbformat": 4,
 "nbformat_minor": 5
}
