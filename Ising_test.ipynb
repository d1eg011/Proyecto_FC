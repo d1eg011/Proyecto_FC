{
 "cells": [
  {
   "cell_type": "code",
   "execution_count": 114,
   "id": "307dddd2",
   "metadata": {},
   "outputs": [],
   "source": [
    "#Importación de funcionalidad\n",
    "import numpy as np\n",
    "import scipy as sp\n",
    "from PIL import Image\n",
    "from ipywidgets import interact\n",
    "import matplotlib.pyplot as plt\n",
    "import matplotlib.colors"
   ]
  },
  {
   "cell_type": "code",
   "execution_count": 2,
   "id": "ea49e825",
   "metadata": {},
   "outputs": [],
   "source": [
    "def Lattice_gencu(N : np.uint32): #Inicia la grilla en estado \"frío\" con spines arriba\n",
    "    return np.ones((N,N))"
   ]
  },
  {
   "cell_type": "code",
   "execution_count": 3,
   "id": "7c6459f8",
   "metadata": {},
   "outputs": [],
   "source": [
    "def Lattice_gencd(N : np.uint32 ): #Inicia la grilla en estado \"frío\" con spines abajo\n",
    "     return -np.ones((N,N))"
   ]
  },
  {
   "cell_type": "code",
   "execution_count": 4,
   "id": "07e9bf72",
   "metadata": {},
   "outputs": [],
   "source": [
    "def Lattice_genh(N : np.uint32 ): #Inicia la grilla con una distribución de spines random.\n",
    "    return np.random.choice([-1,1], size = (N,N))"
   ]
  },
  {
   "cell_type": "code",
   "execution_count": 5,
   "id": "78d33021",
   "metadata": {},
   "outputs": [],
   "source": [
    "def Energy_of_configuration(spin: np.int8): \n",
    "    kernel = sp.ndimage.generate_binary_structure(2,1)\n",
    "    kernel[1][1] = False\n",
    "    E_0 = spin*sp.ndimage.convolve(spin, kernel, mode= 'constant')\n",
    "    \n",
    "    return np.sum(E_0, dtype = np.int32)"
   ]
  },
  {
   "cell_type": "code",
   "execution_count": 6,
   "id": "b68c5740",
   "metadata": {},
   "outputs": [],
   "source": [
    "def Magnetization_of_configuration(spin : np.int8):\n",
    "    return np.sum(spin,dtype = np.int32)"
   ]
  },
  {
   "cell_type": "code",
   "execution_count": 61,
   "id": "274fabba",
   "metadata": {},
   "outputs": [],
   "source": [
    " def Configuration_update_H(β : np.float32, J : np.float32, spin : np.int8 , H = 0.0, iterations= 20000):\n",
    "        N = spin.shape[0]\n",
    "        random_condition_energy = np.random.default_rng().random(iterations)\n",
    "        \n",
    "        probE = { -8 : np.exp(-8*β*J),\n",
    "                  -4 : np.exp(-4*β*J),\n",
    "                   0 : 1,\n",
    "                   4 : np.exp(4*β*J),\n",
    "                   8 : np.exp(8*β*J)}\n",
    "        \n",
    "        probM = { -2: np.exp(-2*β*H),\n",
    "                   2: np.exp(2*β*H)}\n",
    "        \n",
    "        for i in range(0,iterations):\n",
    "            spin1 = np.copy(spin)\n",
    "            row, col = np.random.randint(N), np.random.randint(N)\n",
    "            spin1[row][col] = -1 if (spin[row][col] > 0) else 1\n",
    "            dE = 2*spin1[row,col]*(spin1[(row + 1)%N, col] + spin1[(row - 1)%N, col] + spin1[row , (col + 1)%N] + spin1[row , (col - 1)%N])\n",
    "            dM = 2*spin1[row,col]\n",
    "            δH = -H*dM -J*dE\n",
    "            \n",
    "            if(random_condition_energy[i] < probM[dM]*probE[dE]):\n",
    "                spin = spin1\n",
    "\n",
    "        return spin"
   ]
  },
  {
   "cell_type": "code",
   "execution_count": 155,
   "id": "62b6918e",
   "metadata": {},
   "outputs": [
    {
     "name": "stdout",
     "output_type": "stream",
     "text": [
      "1.0 \n",
      " [[1 1 1 ... 1 1 1]\n",
      " [1 1 1 ... 1 1 1]\n",
      " [1 1 1 ... 1 1 1]\n",
      " ...\n",
      " [1 1 1 ... 1 1 1]\n",
      " [1 1 1 ... 1 1 1]\n",
      " [1 1 1 ... 1 1 1]]\n"
     ]
    }
   ],
   "source": [
    "spin = Lattice_genh(50)\n",
    "spin1 = Configuration_update_H(2.0,1,spin, iterations= 5000000)\n",
    "print(Magnetization_of_configuration(spin1)/spin1.size, \"\\n\", spin1)"
   ]
  },
  {
   "cell_type": "code",
   "execution_count": 156,
   "id": "aee649d5",
   "metadata": {},
   "outputs": [
    {
     "data": {
      "text/plain": [
       "<matplotlib.image.AxesImage at 0x7a305f5f9010>"
      ]
     },
     "execution_count": 156,
     "metadata": {},
     "output_type": "execute_result"
    },
    {
     "data": {
      "image/png": "[encoded data removed]",
      "text/plain": [
       "<Figure size 640x480 with 1 Axes>"
      ]
     },
     "metadata": {},
     "output_type": "display_data"
    }
   ],
   "source": [
    "plt.imshow(spin1,cmap='hot')"
   ]
  },
  {
   "cell_type": "markdown",
   "id": "3e7bc566",
   "metadata": {},
   "source": [
    "## Animación de la termalización del modelo de Ising"
   ]
  },
  {
   "cell_type": "code",
   "execution_count": 8,
   "id": "399985e1",
   "metadata": {},
   "outputs": [],
   "source": [
    "def display_spin(spin : np.int8 ):\n",
    "    return Image.fromarray(np.uint8((spin+1)*0.5*255))"
   ]
  },
  {
   "cell_type": "code",
   "execution_count": 29,
   "id": "0f30d89f",
   "metadata": {},
   "outputs": [],
   "source": [
    "def display_ising_sequence(images):\n",
    "    def show(frame=(0, images.shape[2]-1)):\n",
    "        return display_spin(images[:,:,frame])\n",
    "    return interact(show)"
   ]
  },
  {
   "cell_type": "code",
   "execution_count": 27,
   "id": "b2d316ba",
   "metadata": {},
   "outputs": [],
   "source": [
    "lattice = Lattice_gencd(200)\n",
    "steps = 200\n",
    "\n",
    "images = np.zeros((lattice.shape[0],lattice.shape[1], steps))\n",
    "\n",
    "for i in range(steps-1):\n",
    "    images[:,:,i] = Configuration_update_H(0.1, 1.0, lattice, iterations = i*steps)"
   ]
  },
  {
   "cell_type": "code",
   "execution_count": 30,
   "id": "f1418937",
   "metadata": {},
   "outputs": [
    {
     "name": "stderr",
     "output_type": "stream",
     "text": [
      "Widget Javascript not detected.  It may not be installed or enabled properly. Reconnecting the current kernel may help.\n"
     ]
    },
    {
     "data": {
      "application/vnd.jupyter.widget-view+json": {
       "model_id": "dff66fc4df8642f8b74f086f77e59219"
      }
     },
     "metadata": {},
     "output_type": "display_data"
    },
    {
     "data": {
      "text/plain": [
       "<function __main__.display_ising_sequence.<locals>.show(frame=(0, 200))>"
      ]
     },
     "execution_count": 30,
     "metadata": {},
     "output_type": "execute_result"
    }
   ],
   "source": [
    "display_ising_sequence(images)"
   ]
  },
  {
   "cell_type": "code",
   "execution_count": 12,
   "id": "15e51bf5",
   "metadata": {},
   "outputs": [],
   "source": [
    "def Ising_model(iterations):\n",
    "    pass\n",
    "    \n",
    "    T = np.linspace(0.000001, 10000.0, N**2)\n",
    "    energy= magnetization = heat_capacity = np.zeros(N**2), np.zeros(N**2), np.zeros(N**2)\n",
    "    n1 = 1/N**2\n",
    "    n2 = 1/N**4\n",
    "    \n",
    "    for t in range(iterations):\n",
    "        spin = Lattice_gencu(N)\n",
    "        \n",
    "        energy1 = magn1= energy2 = magn2 = 0\n",
    "        \n",
    "        β = 1/T\n",
    "        β2 = β**2\n",
    "        \n",
    "        for _ in range(N**2):\n",
    "            Configuration_update_H(β, 1,0, spin, )\n",
    "    "
   ]
  },
  {
   "cell_type": "code",
   "execution_count": null,
   "id": "9aa00296",
   "metadata": {},
   "outputs": [],
   "source": []
  }
 ],
 "metadata": {
  "kernelspec": {
   "display_name": "Python 3 (ipykernel)",
   "language": "python",
   "name": "python3"
  },
  "language_info": {
   "codemirror_mode": {
    "name": "ipython",
    "version": 3
   },
   "file_extension": ".py",
   "mimetype": "text/x-python",
   "name": "python",
   "nbconvert_exporter": "python",
   "pygments_lexer": "ipython3",
   "version": "3.11.6"
  }
 },
 "nbformat": 4,
 "nbformat_minor": 5
}
