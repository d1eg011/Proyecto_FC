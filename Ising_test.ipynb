{
 "cells": [
  {
   "cell_type": "code",
   "execution_count": 1,
   "id": "307dddd2",
   "metadata": {},
   "outputs": [],
   "source": [
    "#Importación de funcionalidad\n",
    "import numpy as np\n",
    "import random as rd"
   ]
  },
  {
   "cell_type": "code",
   "execution_count": 31,
   "id": "ea49e825",
   "metadata": {},
   "outputs": [],
   "source": [
    "def Lattice_gencu(N):\n",
    "    return np.ones(N*N).reshape(N,N)"
   ]
  },
  {
   "cell_type": "code",
   "execution_count": 23,
   "id": "7c6459f8",
   "metadata": {},
   "outputs": [],
   "source": [
    "def Lattice_gencd(N):\n",
    "     return -np.ones(N*N).reshape(N,N)"
   ]
  },
  {
   "cell_type": "code",
   "execution_count": 16,
   "id": "07e9bf72",
   "metadata": {},
   "outputs": [],
   "source": [
    "def Lattice_genh(N):\n",
    "    return np.random.choice([-1,1], N*N).reshape(N,N)"
   ]
  },
  {
   "cell_type": "code",
   "execution_count": 33,
   "id": "5e20a498",
   "metadata": {},
   "outputs": [],
   "source": [
    "def Hamiltonian(H,J,spin):\n",
    "    E_0 = 0 #Energía intermolecular\n",
    "    for i in range (0, spin.shape[0]):\n",
    "        for j in range (0, spin.shape[1]):\n",
    "            E_0 += spin[i][j]*( spin[ (i+1)%spin.shape[0] ][j] + spin[i][ (j+1)%spin.shape[1] ] + spin[ (i-1)%spin.shape[0]][j] + spin[i][ (j-1)%spin.shape[1] ])\n",
    "    return -H*spin.sum() - J*E_0/2"
   ]
  },
  {
   "cell_type": "code",
   "execution_count": 278,
   "id": "06a581e9",
   "metadata": {},
   "outputs": [],
   "source": [
    "def Flip(spin):   \n",
    "    row, col = rd.randint(0,spin.shape[0]-1), rd.randint(0, spin.shape[1]-1)\n",
    "    \n",
    "    spin1 = np.copy(spin)\n",
    "    spin1[row][col] = -1 if (spin[row][col] > 0) else 1\n",
    "    \n",
    "    return spin1"
   ]
  },
  {
   "cell_type": "code",
   "execution_count": 279,
   "id": "12ec089f",
   "metadata": {},
   "outputs": [],
   "source": [
    " def Configuration_update(β, H, J, spin, Hamiltonian, Flip):\n",
    "        W = 0.0\n",
    "        for i in range(0,spin.shape[0]*spin.shape[1]): \n",
    "            spin1 = Flip(spin)\n",
    "            δH = Hamiltonian(H,J,spin1) - Hamiltonian(H, J, spin)\n",
    "            if (δH < 0):\n",
    "                W = 1\n",
    "            else:\n",
    "                W = np.exp(-β*δH)\n",
    "                spin = spin1\n",
    "            \n",
    "        return spin"
   ]
  },
  {
   "cell_type": "code",
   "execution_count": 280,
   "id": "6e76b5e9",
   "metadata": {},
   "outputs": [
    {
     "data": {
      "text/plain": [
       "array([[1., 1., 1., 1., 1.],\n",
       "       [1., 1., 1., 1., 1.],\n",
       "       [1., 1., 1., 1., 1.],\n",
       "       [1., 1., 1., 1., 1.],\n",
       "       [1., 1., 1., 1., 1.]])"
      ]
     },
     "execution_count": 280,
     "metadata": {},
     "output_type": "execute_result"
    }
   ],
   "source": [
    "a = Lattice_gencu(5)\n",
    "a"
   ]
  },
  {
   "cell_type": "code",
   "execution_count": 282,
   "id": "54bb35c7",
   "metadata": {},
   "outputs": [],
   "source": [
    "b = Configuration_update(1,0,1,a,Hamiltonian,Flip)"
   ]
  },
  {
   "cell_type": "code",
   "execution_count": 283,
   "id": "ed43d636",
   "metadata": {},
   "outputs": [
    {
     "data": {
      "text/plain": [
       "array([[-1.,  1.,  1., -1., -1.],\n",
       "       [ 1.,  1.,  1.,  1.,  1.],\n",
       "       [ 1.,  1., -1.,  1., -1.],\n",
       "       [-1.,  1., -1.,  1., -1.],\n",
       "       [-1.,  1., -1.,  1.,  1.]])"
      ]
     },
     "execution_count": 283,
     "metadata": {},
     "output_type": "execute_result"
    }
   ],
   "source": [
    "b"
   ]
  },
  {
   "cell_type": "code",
   "execution_count": null,
   "id": "b7c5af8a",
   "metadata": {},
   "outputs": [],
   "source": []
  }
 ],
 "metadata": {
  "kernelspec": {
   "display_name": "Python 3 (ipykernel)",
   "language": "python",
   "name": "python3"
  },
  "language_info": {
   "codemirror_mode": {
    "name": "ipython",
    "version": 3
   },
   "file_extension": ".py",
   "mimetype": "text/x-python",
   "name": "python",
   "nbconvert_exporter": "python",
   "pygments_lexer": "ipython3",
   "version": "3.11.6"
  }
 },
 "nbformat": 4,
 "nbformat_minor": 5
}
